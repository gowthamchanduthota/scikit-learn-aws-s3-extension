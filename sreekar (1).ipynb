{
  "nbformat": 4,
  "nbformat_minor": 0,
  "metadata": {
    "colab": {
      "provenance": []
    },
    "kernelspec": {
      "name": "python3",
      "display_name": "Python 3"
    },
    "language_info": {
      "name": "python"
    }
  },
  "cells": [
    {
      "cell_type": "code",
      "execution_count": 3,
      "metadata": {
        "colab": {
          "base_uri": "https://localhost:8080/"
        },
        "id": "Cg_frwsMlldx",
        "outputId": "21013243-2c37-423a-808a-ca8aba06e1ec"
      },
      "outputs": [
        {
          "output_type": "stream",
          "name": "stdout",
          "text": [
            "Requirement already satisfied: boto3 in /usr/local/lib/python3.10/dist-packages (1.35.33)\n",
            "Requirement already satisfied: botocore<1.36.0,>=1.35.33 in /usr/local/lib/python3.10/dist-packages (from boto3) (1.35.33)\n",
            "Requirement already satisfied: jmespath<2.0.0,>=0.7.1 in /usr/local/lib/python3.10/dist-packages (from boto3) (1.0.1)\n",
            "Requirement already satisfied: s3transfer<0.11.0,>=0.10.0 in /usr/local/lib/python3.10/dist-packages (from boto3) (0.10.2)\n",
            "Requirement already satisfied: python-dateutil<3.0.0,>=2.1 in /usr/local/lib/python3.10/dist-packages (from botocore<1.36.0,>=1.35.33->boto3) (2.8.2)\n",
            "Requirement already satisfied: urllib3!=2.2.0,<3,>=1.25.4 in /usr/local/lib/python3.10/dist-packages (from botocore<1.36.0,>=1.35.33->boto3) (2.2.3)\n",
            "Requirement already satisfied: six>=1.5 in /usr/local/lib/python3.10/dist-packages (from python-dateutil<3.0.0,>=2.1->botocore<1.36.0,>=1.35.33->boto3) (1.16.0)\n",
            "['githubfiles12/']\n",
            "['githubfiles12/']\n"
          ]
        }
      ],
      "source": [
        "\n",
        "import boto3\n",
        "def list_objects(bucket, path = \"\"):\n",
        "\n",
        "\n",
        "    s3 = boto3.client('s3')\n",
        "    resp = s3.list_objects_v2(Bucket=bucket)\n",
        "    files = []\n",
        "    for obj in resp['Contents']:\n",
        "        files.append(obj['Key'])\n",
        "    print(files)\n",
        "\n",
        "    return files\n",
        "\n",
        "DATASETS_BUCKET = \"softwaregit1\"\n",
        "OUTPUTS_BUCKET = \"softwaregit1\"\n",
        "#s3 = boto3.client('s3')\n",
        "#resp = s3.list_objects_v2(Bucket=bucket)\n",
        "#print(resp)\n",
        "files = list_objects(DATASETS_BUCKET)\n",
        "print(str(files))"
      ]
    }
  ]
}