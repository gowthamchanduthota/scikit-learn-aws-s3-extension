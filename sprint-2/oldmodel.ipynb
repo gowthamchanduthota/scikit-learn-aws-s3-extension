import numpy as np
import pandas as pd
import matplotlib.pyplot as plt
import seaborn as SNS
import os
from pathlib import Path
from PIL import Image
import tensorflow as Tf
from keras.preprocessing.image import load_img
from sklearn.model_selection import train_test_split
from tensorflow.keras.initializers import random_uniform, glorot_uniform, constant, identity
from tensorflow.keras.layers import Dropout, Input, Add, Dense, Activation, BatchNormalization, Flatten, Conv2D, MaxPooling2D, GlobalMaxPooling2D
from tensorflow.keras.models import Model, load_model
!pip install -q kaggle
from google.colab import files
files.upload() #Upload the token file containing  the token
# create a directory named kaggle and copy kaggle.json file to kaggle directory
!mkdir -p ~/.kaggle
!cp kaggle.json ~/.kaggle/

# change the permission of the file
!chmod 650 ~/.kaggle/kaggle.json

# download the dataset
!kaggle datasets download -d jangedoo/utkface-new

# unzip the dataset to the current directory and remove the zip file
!unzip utkface-new.zip && rm utkface-new.zip
