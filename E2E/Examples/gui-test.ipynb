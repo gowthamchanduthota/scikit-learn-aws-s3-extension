{
 "cells": [
  {
   "cell_type": "code",
   "execution_count": 94,
   "metadata": {},
   "outputs": [],
   "source": [
    "import os\n",
    "import PIL\n",
    "import cv2\n",
    "import glob\n",
    "import numpy as np\n",
    "from tkinter import *\n",
    "from PIL import Image, ImageDraw, ImageGrab\n",
    "from keras.models import load_model\n",
    "from keras.datasets import mnist\n",
    "from keras.utils import to_categorical\n",
    "from keras.models import Sequential\n",
    "from keras.layers import Dense, Dropout, Flatten, Convolution2D, MaxPooling2D\n",
    "import tensorflow as tf\n",
    "from tkinter import *\n",
    "from tkinter import messagebox, simpledialog\n",
    "import time\n",
    "from s3helper import my_logger, S3Helper"
   ]
  },
  {
   "cell_type": "code",
   "execution_count": 95,
   "metadata": {},
   "outputs": [
    {
     "name": "stderr",
     "output_type": "stream",
     "text": [
      "s3helper    : INFO     Model loaded successfully, ready to use the APP.\n",
      "s3helper    : INFO     Model loaded successfully, ready to use the APP.\n",
      "s3helper    : INFO     Model loaded successfully, ready to use the APP.\n",
      "s3helper    : INFO     Model loaded successfully, ready to use the APP.\n",
      "s3helper    : INFO     Model loaded successfully, ready to use the APP.\n",
      "s3helper    : INFO     Model loaded successfully, ready to use the APP.\n",
      "s3helper    : INFO     Model loaded successfully, ready to use the APP.\n",
      "s3helper    : INFO     Model loaded successfully, ready to use the APP.\n",
      "s3helper    : INFO     Model loaded successfully, ready to use the APP.\n",
      "s3helper    : INFO     Model loaded successfully, ready to use the APP.\n",
      "s3helper    : INFO     Model loaded successfully, ready to use the APP.\n",
      "s3helper    : INFO     Model loaded successfully, ready to use the APP.\n"
     ]
    }
   ],
   "source": [
    "logger = my_logger()\n",
    "s3_helper = S3Helper()\n",
    "\n",
    "s3_helper.get_img(\"digit-recog-example/model.h5\")\n",
    "model_path = 'model.h5'\n",
    "model = load_model(model_path)\n",
    "logger.info(\"Model loaded successfully, ready to use the APP.\")\n",
    "TIME_NOW = time.strftime(\"%Y%m%d-%H%M%S\")"
   ]
  },
  {
   "cell_type": "code",
   "execution_count": 96,
   "metadata": {},
   "outputs": [
    {
     "data": {
      "text/plain": [
       "''"
      ]
     },
     "execution_count": 96,
     "metadata": {},
     "output_type": "execute_result"
    }
   ],
   "source": [
    "root = Tk( )\n",
    "root. resizable (0, 0)\n",
    "root. title (\"Handwritten Digit Recognition GUI App\")"
   ]
  },
  {
   "cell_type": "code",
   "execution_count": 99,
   "metadata": {},
   "outputs": [],
   "source": [
    "def clear_widget():\n",
    "    global cv\n",
    "    cv.delete(\"all\")\n",
    "\n",
    "def activate_event(event):\n",
    "    global lastx, lasty\n",
    "    cv.bind('<B1-Motion>', draw_lines)\n",
    "    lastx, lasty = event.x, event.y\n",
    "\n",
    "def draw_lines(event):\n",
    "    global lastx, lasty\n",
    "    x, y = event.x, event.y\n",
    "    cv.create_line((lastx, lasty, x, y), width=8, fill='black', capstyle=ROUND, smooth=TRUE, splinesteps=12)\n",
    "    lastx, lasty = x, y\n"
   ]
  },
  {
   "cell_type": "code",
   "execution_count": 100,
   "metadata": {},
   "outputs": [],
   "source": [
    "def retrain_model(new_data, new_label):\n",
    "    global model\n",
    "    new_data = np.array(new_data).reshape(-1, 28, 28, 1)\n",
    "    new_label = to_categorical(new_label, 10)\n",
    "    model.fit(new_data, new_label, epochs=1, verbose=0)\n",
    "    model.save(model_path)\n",
    "    logger.info(\"Model retrained and saved.\")"
   ]
  },
  {
   "cell_type": "code",
   "execution_count": 101,
   "metadata": {},
   "outputs": [],
   "source": [
    "def Recognize_Digit():\n",
    "    global image_number\n",
    "    predictions = []\n",
    "    percentage = []\n",
    "    #image_number = 0\n",
    "    filename = f'image_{image_number}.png'\n",
    "    widget=cv\n",
    "    # get the widget coordinates\n",
    "    print(root.winfo_rootx(), widget.winfo_x())\n",
    "    print(root.winfo_rooty(), widget.winfo_y())\n",
    "    print(widget.winfo_width(), widget.winfo_height())\n",
    "    x=root.winfo_rootx() +widget.winfo_x()\n",
    "    y=root.winfo_rooty()+widget.winfo_y()\n",
    "    x1=x+widget.winfo_width()\n",
    "    y1=y+widget.winfo_height ()\n",
    "\n",
    "    print(x, y, x1, y1)\n",
    "    ImageGrab.grab().crop ((5, 100, 1200, 900)).save (filename )\n",
    "\n",
    "    image = cv2. imread (filename, cv2. IMREAD_COLOR)\n",
    "\n",
    "    gray = cv2.cvtColor(image, cv2. COLOR_BGR2GRAY )\n",
    "    ret, th = cv2. threshold(gray, 0,255, cv2.THRESH_BINARY_INV+cv2. THRESH_OTSU)\n",
    "    contours= cv2. findContours(th, cv2. RETR_EXTERNAL, cv2.CHAIN_APPROX_SIMPLE) [0]\n",
    "    final_pred = None\n",
    "    img = None\n",
    "    for cnt in contours:\n",
    "        x, y,w, h = cv2.boundingRect (cnt)\n",
    "        cv2. rectangle (image, (x,y), (x+w, y+h), (255, 0, 0) , 1)\n",
    "        top = int (0.05 * th. shape [0])\n",
    "        bottom = top\n",
    "        left = int (0.05 * th. shape[1])\n",
    "        right = left\n",
    "        th_up = cv2. copyMakeBorder(th, top, bottom, left, right, cv2. BORDER_REPLICATE)\n",
    "        roi= th[y-top:y+h+bottom, x-left:x+w+right]\n",
    "        img = cv2. resize (roi, (28, 28), interpolation=cv2. INTER_AREA)\n",
    "        img = img. reshape (1, 28,28,1)\n",
    "        img = img/255.0\n",
    "        pred = model.predict( [img]) [0]\n",
    "        logger.info(\"Before, {}\".format(final_pred))\n",
    "        final_pred = np.argmax (pred)\n",
    "        logger.info(\"Mid Validation, {}\".format(final_pred))\n",
    "        data = str (final_pred) +' '+ str(int (max(pred) *100) )+'%'\n",
    "        font = cv2. FONT_HERSHEY_SIMPLEX\n",
    "        fontScale = 0.5\n",
    "        color = (255, 0, 0)\n",
    "        thickness = 1\n",
    "        cv2. putText (image, data, (x,y-5), font, fontScale, color, thickness)\n",
    "        img_name = f\"{filename}_pred\"\n",
    "        cv2.imwrite(img_name, image)\n",
    "        s3_helper.upload_file(file_name = img_name, s3_key=\"digit-recog-example/{}/{}\".format(TIME_NOW, img_name))\n",
    "        break\n",
    "\n",
    "    logger.info(\"Final Predcition, {}\".format(final_pred))\n",
    "    is_correct = messagebox.askyesno(\"Prediction Result\", f\"Predicted Digit: {final_pred}. Is this correct?\")\n",
    "    if not is_correct:\n",
    "        new_label = simpledialog.askinteger(\"Correction\", \"Enter the correct digit:\")\n",
    "        if new_label is not None:\n",
    "            retrain_model(img, new_label)\n",
    "    cv2. imshow ( 'image', image)"
   ]
  },
  {
   "cell_type": "code",
   "execution_count": 102,
   "metadata": {},
   "outputs": [
    {
     "name": "stdout",
     "output_type": "stream",
     "text": [
      "19 0\n",
      "81 2\n",
      "646 486\n",
      "19 83 665 569\n",
      "1/1 [==============================] - 0s 41ms/step\n"
     ]
    },
    {
     "name": "stderr",
     "output_type": "stream",
     "text": [
      "s3helper    : INFO     Before, None\n",
      "s3helper    : INFO     Before, None\n",
      "s3helper    : INFO     Before, None\n",
      "s3helper    : INFO     Before, None\n",
      "s3helper    : INFO     Before, None\n",
      "s3helper    : INFO     Before, None\n",
      "s3helper    : INFO     Before, None\n",
      "s3helper    : INFO     Before, None\n",
      "s3helper    : INFO     Before, None\n",
      "s3helper    : INFO     Before, None\n",
      "s3helper    : INFO     Before, None\n",
      "s3helper    : INFO     Before, None\n",
      "s3helper    : INFO     Mid Validation, 3\n",
      "s3helper    : INFO     Mid Validation, 3\n",
      "s3helper    : INFO     Mid Validation, 3\n",
      "s3helper    : INFO     Mid Validation, 3\n",
      "s3helper    : INFO     Mid Validation, 3\n",
      "s3helper    : INFO     Mid Validation, 3\n",
      "s3helper    : INFO     Mid Validation, 3\n",
      "s3helper    : INFO     Mid Validation, 3\n",
      "s3helper    : INFO     Mid Validation, 3\n",
      "s3helper    : INFO     Mid Validation, 3\n",
      "s3helper    : INFO     Mid Validation, 3\n",
      "s3helper    : INFO     Mid Validation, 3\n",
      "s3helper    : INFO     Final Predcition, 3\n",
      "s3helper    : INFO     Final Predcition, 3\n",
      "s3helper    : INFO     Final Predcition, 3\n",
      "s3helper    : INFO     Final Predcition, 3\n",
      "s3helper    : INFO     Final Predcition, 3\n",
      "s3helper    : INFO     Final Predcition, 3\n",
      "s3helper    : INFO     Final Predcition, 3\n",
      "s3helper    : INFO     Final Predcition, 3\n",
      "s3helper    : INFO     Final Predcition, 3\n",
      "s3helper    : INFO     Final Predcition, 3\n",
      "s3helper    : INFO     Final Predcition, 3\n",
      "s3helper    : INFO     Final Predcition, 3\n"
     ]
    },
    {
     "name": "stdout",
     "output_type": "stream",
     "text": [
      "File uploaded at: %s digit-recog-example/20241208-142930/image_0.png_pred\n",
      "19 0\n",
      "81 2\n",
      "646 486\n",
      "19 83 665 569\n",
      "1/1 [==============================] - 0s 14ms/step\n"
     ]
    },
    {
     "name": "stderr",
     "output_type": "stream",
     "text": [
      "s3helper    : INFO     Before, None\n",
      "s3helper    : INFO     Before, None\n",
      "s3helper    : INFO     Before, None\n",
      "s3helper    : INFO     Before, None\n",
      "s3helper    : INFO     Before, None\n",
      "s3helper    : INFO     Before, None\n",
      "s3helper    : INFO     Before, None\n",
      "s3helper    : INFO     Before, None\n",
      "s3helper    : INFO     Before, None\n",
      "s3helper    : INFO     Before, None\n",
      "s3helper    : INFO     Before, None\n",
      "s3helper    : INFO     Before, None\n",
      "s3helper    : INFO     Mid Validation, 4\n",
      "s3helper    : INFO     Mid Validation, 4\n",
      "s3helper    : INFO     Mid Validation, 4\n",
      "s3helper    : INFO     Mid Validation, 4\n",
      "s3helper    : INFO     Mid Validation, 4\n",
      "s3helper    : INFO     Mid Validation, 4\n",
      "s3helper    : INFO     Mid Validation, 4\n",
      "s3helper    : INFO     Mid Validation, 4\n",
      "s3helper    : INFO     Mid Validation, 4\n",
      "s3helper    : INFO     Mid Validation, 4\n",
      "s3helper    : INFO     Mid Validation, 4\n",
      "s3helper    : INFO     Mid Validation, 4\n",
      "s3helper    : INFO     Final Predcition, 4\n",
      "s3helper    : INFO     Final Predcition, 4\n",
      "s3helper    : INFO     Final Predcition, 4\n",
      "s3helper    : INFO     Final Predcition, 4\n",
      "s3helper    : INFO     Final Predcition, 4\n",
      "s3helper    : INFO     Final Predcition, 4\n",
      "s3helper    : INFO     Final Predcition, 4\n",
      "s3helper    : INFO     Final Predcition, 4\n",
      "s3helper    : INFO     Final Predcition, 4\n",
      "s3helper    : INFO     Final Predcition, 4\n",
      "s3helper    : INFO     Final Predcition, 4\n",
      "s3helper    : INFO     Final Predcition, 4\n"
     ]
    },
    {
     "name": "stdout",
     "output_type": "stream",
     "text": [
      "File uploaded at: %s digit-recog-example/20241208-142930/image_0.png_pred\n"
     ]
    },
    {
     "name": "stderr",
     "output_type": "stream",
     "text": [
      "Exception in Tkinter callback\n",
      "Traceback (most recent call last):\n",
      "  File \"/Users/gowtham/WorkSpace/myenv/lib/python3.9/tkinter/__init__.py\", line 1892, in __call__\n",
      "    return self.func(*args)\n",
      "  File \"/var/folders/58/nvkqn1wd2tq7_ht3yhwmsh580000gn/T/ipykernel_40285/392183581.py\", line 59, in Recognize_Digit\n",
      "    retrain_model(img, new_label)\n",
      "  File \"/var/folders/58/nvkqn1wd2tq7_ht3yhwmsh580000gn/T/ipykernel_40285/4212003672.py\", line 5, in retrain_model\n",
      "    model.fit(new_data, new_label, epochs=1, verbose=0)\n",
      "  File \"/Users/gowtham/WorkSpace/myenv/lib/python3.9/site-packages/keras/utils/traceback_utils.py\", line 70, in error_handler\n",
      "    raise e.with_traceback(filtered_tb) from None\n",
      "  File \"/Users/gowtham/WorkSpace/myenv/lib/python3.9/site-packages/keras/engine/data_adapter.py\", line 1852, in _check_data_cardinality\n",
      "    raise ValueError(msg)\n",
      "ValueError: Data cardinality is ambiguous:\n",
      "  x sizes: 1\n",
      "  y sizes: 10\n",
      "Make sure all arrays contain the same number of samples.\n"
     ]
    },
    {
     "name": "stdout",
     "output_type": "stream",
     "text": [
      "19 0\n",
      "81 2\n",
      "646 486\n",
      "19 83 665 569\n",
      "1/1 [==============================] - 0s 13ms/step\n"
     ]
    },
    {
     "name": "stderr",
     "output_type": "stream",
     "text": [
      "s3helper    : INFO     Before, None\n",
      "s3helper    : INFO     Before, None\n",
      "s3helper    : INFO     Before, None\n",
      "s3helper    : INFO     Before, None\n",
      "s3helper    : INFO     Before, None\n",
      "s3helper    : INFO     Before, None\n",
      "s3helper    : INFO     Before, None\n",
      "s3helper    : INFO     Before, None\n",
      "s3helper    : INFO     Before, None\n",
      "s3helper    : INFO     Before, None\n",
      "s3helper    : INFO     Before, None\n",
      "s3helper    : INFO     Before, None\n",
      "s3helper    : INFO     Mid Validation, 4\n",
      "s3helper    : INFO     Mid Validation, 4\n",
      "s3helper    : INFO     Mid Validation, 4\n",
      "s3helper    : INFO     Mid Validation, 4\n",
      "s3helper    : INFO     Mid Validation, 4\n",
      "s3helper    : INFO     Mid Validation, 4\n",
      "s3helper    : INFO     Mid Validation, 4\n",
      "s3helper    : INFO     Mid Validation, 4\n",
      "s3helper    : INFO     Mid Validation, 4\n",
      "s3helper    : INFO     Mid Validation, 4\n",
      "s3helper    : INFO     Mid Validation, 4\n",
      "s3helper    : INFO     Mid Validation, 4\n",
      "s3helper    : INFO     Final Predcition, 4\n",
      "s3helper    : INFO     Final Predcition, 4\n",
      "s3helper    : INFO     Final Predcition, 4\n",
      "s3helper    : INFO     Final Predcition, 4\n",
      "s3helper    : INFO     Final Predcition, 4\n",
      "s3helper    : INFO     Final Predcition, 4\n",
      "s3helper    : INFO     Final Predcition, 4\n",
      "s3helper    : INFO     Final Predcition, 4\n",
      "s3helper    : INFO     Final Predcition, 4\n",
      "s3helper    : INFO     Final Predcition, 4\n",
      "s3helper    : INFO     Final Predcition, 4\n",
      "s3helper    : INFO     Final Predcition, 4\n"
     ]
    },
    {
     "name": "stdout",
     "output_type": "stream",
     "text": [
      "File uploaded at: %s digit-recog-example/20241208-142930/image_0.png_pred\n"
     ]
    },
    {
     "name": "stderr",
     "output_type": "stream",
     "text": [
      "Exception in Tkinter callback\n",
      "Traceback (most recent call last):\n",
      "  File \"/Users/gowtham/WorkSpace/myenv/lib/python3.9/tkinter/__init__.py\", line 1892, in __call__\n",
      "    return self.func(*args)\n",
      "  File \"/var/folders/58/nvkqn1wd2tq7_ht3yhwmsh580000gn/T/ipykernel_40285/392183581.py\", line 59, in Recognize_Digit\n",
      "    retrain_model(img, new_label)\n",
      "  File \"/var/folders/58/nvkqn1wd2tq7_ht3yhwmsh580000gn/T/ipykernel_40285/4212003672.py\", line 5, in retrain_model\n",
      "    model.fit(new_data, new_label, epochs=1, verbose=0)\n",
      "  File \"/Users/gowtham/WorkSpace/myenv/lib/python3.9/site-packages/keras/utils/traceback_utils.py\", line 70, in error_handler\n",
      "    raise e.with_traceback(filtered_tb) from None\n",
      "  File \"/Users/gowtham/WorkSpace/myenv/lib/python3.9/site-packages/keras/engine/data_adapter.py\", line 1852, in _check_data_cardinality\n",
      "    raise ValueError(msg)\n",
      "ValueError: Data cardinality is ambiguous:\n",
      "  x sizes: 1\n",
      "  y sizes: 10\n",
      "Make sure all arrays contain the same number of samples.\n"
     ]
    },
    {
     "name": "stdout",
     "output_type": "stream",
     "text": [
      "19 0\n",
      "81 2\n",
      "646 486\n",
      "19 83 665 569\n",
      "1/1 [==============================] - 0s 13ms/step\n"
     ]
    },
    {
     "name": "stderr",
     "output_type": "stream",
     "text": [
      "s3helper    : INFO     Before, None\n",
      "s3helper    : INFO     Before, None\n",
      "s3helper    : INFO     Before, None\n",
      "s3helper    : INFO     Before, None\n",
      "s3helper    : INFO     Before, None\n",
      "s3helper    : INFO     Before, None\n",
      "s3helper    : INFO     Before, None\n",
      "s3helper    : INFO     Before, None\n",
      "s3helper    : INFO     Before, None\n",
      "s3helper    : INFO     Before, None\n",
      "s3helper    : INFO     Before, None\n",
      "s3helper    : INFO     Before, None\n",
      "s3helper    : INFO     Mid Validation, 6\n",
      "s3helper    : INFO     Mid Validation, 6\n",
      "s3helper    : INFO     Mid Validation, 6\n",
      "s3helper    : INFO     Mid Validation, 6\n",
      "s3helper    : INFO     Mid Validation, 6\n",
      "s3helper    : INFO     Mid Validation, 6\n",
      "s3helper    : INFO     Mid Validation, 6\n",
      "s3helper    : INFO     Mid Validation, 6\n",
      "s3helper    : INFO     Mid Validation, 6\n",
      "s3helper    : INFO     Mid Validation, 6\n",
      "s3helper    : INFO     Mid Validation, 6\n",
      "s3helper    : INFO     Mid Validation, 6\n",
      "s3helper    : INFO     Final Predcition, 6\n",
      "s3helper    : INFO     Final Predcition, 6\n",
      "s3helper    : INFO     Final Predcition, 6\n",
      "s3helper    : INFO     Final Predcition, 6\n",
      "s3helper    : INFO     Final Predcition, 6\n",
      "s3helper    : INFO     Final Predcition, 6\n",
      "s3helper    : INFO     Final Predcition, 6\n",
      "s3helper    : INFO     Final Predcition, 6\n",
      "s3helper    : INFO     Final Predcition, 6\n",
      "s3helper    : INFO     Final Predcition, 6\n",
      "s3helper    : INFO     Final Predcition, 6\n",
      "s3helper    : INFO     Final Predcition, 6\n"
     ]
    },
    {
     "name": "stdout",
     "output_type": "stream",
     "text": [
      "File uploaded at: %s digit-recog-example/20241208-142930/image_0.png_pred\n",
      "19 0\n",
      "81 2\n",
      "646 486\n",
      "19 83 665 569\n",
      "1/1 [==============================] - 0s 14ms/step\n"
     ]
    },
    {
     "name": "stderr",
     "output_type": "stream",
     "text": [
      "s3helper    : INFO     Before, None\n",
      "s3helper    : INFO     Before, None\n",
      "s3helper    : INFO     Before, None\n",
      "s3helper    : INFO     Before, None\n",
      "s3helper    : INFO     Before, None\n",
      "s3helper    : INFO     Before, None\n",
      "s3helper    : INFO     Before, None\n",
      "s3helper    : INFO     Before, None\n",
      "s3helper    : INFO     Before, None\n",
      "s3helper    : INFO     Before, None\n",
      "s3helper    : INFO     Before, None\n",
      "s3helper    : INFO     Before, None\n",
      "s3helper    : INFO     Mid Validation, 2\n",
      "s3helper    : INFO     Mid Validation, 2\n",
      "s3helper    : INFO     Mid Validation, 2\n",
      "s3helper    : INFO     Mid Validation, 2\n",
      "s3helper    : INFO     Mid Validation, 2\n",
      "s3helper    : INFO     Mid Validation, 2\n",
      "s3helper    : INFO     Mid Validation, 2\n",
      "s3helper    : INFO     Mid Validation, 2\n",
      "s3helper    : INFO     Mid Validation, 2\n",
      "s3helper    : INFO     Mid Validation, 2\n",
      "s3helper    : INFO     Mid Validation, 2\n",
      "s3helper    : INFO     Mid Validation, 2\n",
      "s3helper    : INFO     Final Predcition, 2\n",
      "s3helper    : INFO     Final Predcition, 2\n",
      "s3helper    : INFO     Final Predcition, 2\n",
      "s3helper    : INFO     Final Predcition, 2\n",
      "s3helper    : INFO     Final Predcition, 2\n",
      "s3helper    : INFO     Final Predcition, 2\n",
      "s3helper    : INFO     Final Predcition, 2\n",
      "s3helper    : INFO     Final Predcition, 2\n",
      "s3helper    : INFO     Final Predcition, 2\n",
      "s3helper    : INFO     Final Predcition, 2\n",
      "s3helper    : INFO     Final Predcition, 2\n",
      "s3helper    : INFO     Final Predcition, 2\n"
     ]
    },
    {
     "name": "stdout",
     "output_type": "stream",
     "text": [
      "File uploaded at: %s digit-recog-example/20241208-142930/image_0.png_pred\n"
     ]
    },
    {
     "name": "stderr",
     "output_type": "stream",
     "text": [
      "Exception in Tkinter callback\n",
      "Traceback (most recent call last):\n",
      "  File \"/Users/gowtham/WorkSpace/myenv/lib/python3.9/tkinter/__init__.py\", line 1892, in __call__\n",
      "    return self.func(*args)\n",
      "  File \"/var/folders/58/nvkqn1wd2tq7_ht3yhwmsh580000gn/T/ipykernel_40285/392183581.py\", line 59, in Recognize_Digit\n",
      "    retrain_model(img, new_label)\n",
      "  File \"/var/folders/58/nvkqn1wd2tq7_ht3yhwmsh580000gn/T/ipykernel_40285/4212003672.py\", line 5, in retrain_model\n",
      "    model.fit(new_data, new_label, epochs=1, verbose=0)\n",
      "  File \"/Users/gowtham/WorkSpace/myenv/lib/python3.9/site-packages/keras/utils/traceback_utils.py\", line 70, in error_handler\n",
      "    raise e.with_traceback(filtered_tb) from None\n",
      "  File \"/Users/gowtham/WorkSpace/myenv/lib/python3.9/site-packages/keras/engine/data_adapter.py\", line 1852, in _check_data_cardinality\n",
      "    raise ValueError(msg)\n",
      "ValueError: Data cardinality is ambiguous:\n",
      "  x sizes: 1\n",
      "  y sizes: 10\n",
      "Make sure all arrays contain the same number of samples.\n"
     ]
    },
    {
     "name": "stdout",
     "output_type": "stream",
     "text": [
      "19 0\n",
      "81 2\n",
      "646 486\n",
      "19 83 665 569\n",
      "1/1 [==============================] - 0s 13ms/step\n"
     ]
    },
    {
     "name": "stderr",
     "output_type": "stream",
     "text": [
      "s3helper    : INFO     Before, None\n",
      "s3helper    : INFO     Before, None\n",
      "s3helper    : INFO     Before, None\n",
      "s3helper    : INFO     Before, None\n",
      "s3helper    : INFO     Before, None\n",
      "s3helper    : INFO     Before, None\n",
      "s3helper    : INFO     Before, None\n",
      "s3helper    : INFO     Before, None\n",
      "s3helper    : INFO     Before, None\n",
      "s3helper    : INFO     Before, None\n",
      "s3helper    : INFO     Before, None\n",
      "s3helper    : INFO     Before, None\n",
      "s3helper    : INFO     Mid Validation, 0\n",
      "s3helper    : INFO     Mid Validation, 0\n",
      "s3helper    : INFO     Mid Validation, 0\n",
      "s3helper    : INFO     Mid Validation, 0\n",
      "s3helper    : INFO     Mid Validation, 0\n",
      "s3helper    : INFO     Mid Validation, 0\n",
      "s3helper    : INFO     Mid Validation, 0\n",
      "s3helper    : INFO     Mid Validation, 0\n",
      "s3helper    : INFO     Mid Validation, 0\n",
      "s3helper    : INFO     Mid Validation, 0\n",
      "s3helper    : INFO     Mid Validation, 0\n",
      "s3helper    : INFO     Mid Validation, 0\n",
      "s3helper    : INFO     Final Predcition, 0\n",
      "s3helper    : INFO     Final Predcition, 0\n",
      "s3helper    : INFO     Final Predcition, 0\n",
      "s3helper    : INFO     Final Predcition, 0\n",
      "s3helper    : INFO     Final Predcition, 0\n",
      "s3helper    : INFO     Final Predcition, 0\n",
      "s3helper    : INFO     Final Predcition, 0\n",
      "s3helper    : INFO     Final Predcition, 0\n",
      "s3helper    : INFO     Final Predcition, 0\n",
      "s3helper    : INFO     Final Predcition, 0\n",
      "s3helper    : INFO     Final Predcition, 0\n",
      "s3helper    : INFO     Final Predcition, 0\n"
     ]
    },
    {
     "name": "stdout",
     "output_type": "stream",
     "text": [
      "File uploaded at: %s digit-recog-example/20241208-142930/image_0.png_pred\n"
     ]
    },
    {
     "name": "stderr",
     "output_type": "stream",
     "text": [
      "Exception in Tkinter callback\n",
      "Traceback (most recent call last):\n",
      "  File \"/Users/gowtham/WorkSpace/myenv/lib/python3.9/tkinter/__init__.py\", line 1892, in __call__\n",
      "    return self.func(*args)\n",
      "  File \"/var/folders/58/nvkqn1wd2tq7_ht3yhwmsh580000gn/T/ipykernel_40285/392183581.py\", line 59, in Recognize_Digit\n",
      "    retrain_model(img, new_label)\n",
      "  File \"/var/folders/58/nvkqn1wd2tq7_ht3yhwmsh580000gn/T/ipykernel_40285/4212003672.py\", line 5, in retrain_model\n",
      "    model.fit(new_data, new_label, epochs=1, verbose=0)\n",
      "  File \"/Users/gowtham/WorkSpace/myenv/lib/python3.9/site-packages/keras/utils/traceback_utils.py\", line 70, in error_handler\n",
      "    raise e.with_traceback(filtered_tb) from None\n",
      "  File \"/Users/gowtham/WorkSpace/myenv/lib/python3.9/site-packages/keras/engine/data_adapter.py\", line 1852, in _check_data_cardinality\n",
      "    raise ValueError(msg)\n",
      "ValueError: Data cardinality is ambiguous:\n",
      "  x sizes: 1\n",
      "  y sizes: 10\n",
      "Make sure all arrays contain the same number of samples.\n"
     ]
    }
   ],
   "source": [
    "lastx, lasty = None, None\n",
    "image_number = 0\n",
    "\n",
    "cv = Canvas(root, width=640, height=480, bg='white')\n",
    "cv.grid(row=0, column=0, pady=2, sticky=W, columnspan=2)\n",
    "cv.bind('<Button-1>', activate_event)\n",
    "\n",
    "btn_save = Button(text=\"Recognize Digit\", command=Recognize_Digit)\n",
    "btn_save.grid(row=2, column=0, pady=1, padx=1)\n",
    "\n",
    "button_clear = Button(text=\"Clear Widget\", command=clear_widget)\n",
    "button_clear.grid(row=2, column=1, pady=1, padx=1)\n",
    "\n",
    "root.mainloop()"
   ]
  },
  {
   "cell_type": "code",
   "execution_count": 104,
   "metadata": {},
   "outputs": [
    {
     "name": "stdout",
     "output_type": "stream",
     "text": [
      "File uploaded at: %s digit-recog-example/20241208-143743/digit-recog.log\n"
     ]
    }
   ],
   "source": [
    "s3_helper.upload_file(file_name = \"digit-recog.log\", s3_key=\"digit-recog-example/{}/digit-recog.log\".format(time.strftime(\"%Y%m%d-%H%M%S\")))"
   ]
  },
  {
   "cell_type": "code",
   "execution_count": null,
   "metadata": {},
   "outputs": [],
   "source": []
  },
  {
   "cell_type": "code",
   "execution_count": null,
   "metadata": {},
   "outputs": [],
   "source": []
  }
 ],
 "metadata": {
  "kernelspec": {
   "display_name": "Python 3",
   "language": "python",
   "name": "python3"
  },
  "language_info": {
   "codemirror_mode": {
    "name": "ipython",
    "version": 3
   },
   "file_extension": ".py",
   "mimetype": "text/x-python",
   "name": "python",
   "nbconvert_exporter": "python",
   "pygments_lexer": "ipython3",
   "version": "3.9.15"
  }
 },
 "nbformat": 4,
 "nbformat_minor": 2
}
