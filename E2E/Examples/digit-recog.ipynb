{
 "cells": [
  {
   "cell_type": "code",
   "execution_count": null,
   "metadata": {},
   "outputs": [],
   "source": [
    "import keras\n",
    "from keras.datasets import mnist\n",
    "from keras.models import Sequential\n",
    "from keras. layers import Dense\n",
    "from keras. layers import Dropout\n",
    "from keras.layers import Flatten\n",
    "from keras.layers.convolutional import Convolution2D\n",
    "from keras.layers.convolutional import MaxPooling2D\n",
    "from keras.utils import to_categorical\n",
    "from keras import backend as K\n",
    "import numpy\n",
    "import pandas as pd\n",
    "\n",
    "from s3helper import *\n",
    "\n",
<<<<<<< HEAD
<<<<<<< HEAD
    "# from library import DataGenerator, ModelWrapper, s3helper"
=======
    "# from library import DataGenerator, ModelWrapper, s3helper\n"
>>>>>>> 4c0f327 (Added E2E module merging complete changes and modules)
=======
    "# from library import DataGenerator, ModelWrapper, s3helper"
>>>>>>> 01508cc (Added unit test cases)
   ]
  },
  {
   "cell_type": "code",
<<<<<<< HEAD
<<<<<<< HEAD
   "execution_count": 11,
=======
   "execution_count": 4,
>>>>>>> 4c0f327 (Added E2E module merging complete changes and modules)
=======
   "execution_count": 11,
>>>>>>> 01508cc (Added unit test cases)
   "metadata": {},
   "outputs": [],
   "source": [
    "(X_train, y_train), (X_test, y_test) = mnist.load_data()"
   ]
  },
  {
   "cell_type": "code",
<<<<<<< HEAD
<<<<<<< HEAD
   "execution_count": 12,
=======
   "execution_count": 5,
>>>>>>> 4c0f327 (Added E2E module merging complete changes and modules)
=======
   "execution_count": 12,
>>>>>>> 01508cc (Added unit test cases)
   "metadata": {},
   "outputs": [
    {
     "data": {
      "image/png": "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",
      "text/plain": [
       "<Figure size 640x480 with 6 Axes>"
      ]
     },
     "metadata": {},
     "output_type": "display_data"
    }
   ],
   "source": [
    "#plot first six samples of MNIST training dataset as gray scale image\n",
    "import matplotlib.pyplot as plt\n",
    "for i in range (6):\n",
    "    plt.subplot (int ('23' + str (i+1)))\n",
    "    plt.imshow(X_train[i], cmap=plt.get_cmap ('gray') )"
   ]
  },
  {
   "cell_type": "code",
<<<<<<< HEAD
<<<<<<< HEAD
   "execution_count": 13,
=======
   "execution_count": 6,
>>>>>>> 4c0f327 (Added E2E module merging complete changes and modules)
=======
   "execution_count": 13,
>>>>>>> 01508cc (Added unit test cases)
   "metadata": {},
   "outputs": [],
   "source": [
    "#reshape format [samples] [width] [height] [ channels ]\n",
    "X_train = X_train. reshape(X_train.shape[0], 28, 28,1).astype( 'float32' )\n",
    "X_test = X_test.reshape (X_test.shape[0], 28, 28,1).astype( 'float32' )\n",
    "#Converts a class vector (integers) to binary class matrix\n",
    "y_train = to_categorical(y_train)\n",
    "y_test = to_categorical(y_test)"
   ]
  },
  {
   "cell_type": "code",
<<<<<<< HEAD
<<<<<<< HEAD
   "execution_count": 14,
=======
   "execution_count": 7,
>>>>>>> 4c0f327 (Added E2E module merging complete changes and modules)
=======
   "execution_count": 14,
>>>>>>> 01508cc (Added unit test cases)
   "metadata": {},
   "outputs": [],
   "source": [
    "X_train /= 255\n",
    "X_test /= 255"
   ]
  },
  {
   "cell_type": "code",
<<<<<<< HEAD
<<<<<<< HEAD
   "execution_count": 15,
=======
   "execution_count": 8,
>>>>>>> 4c0f327 (Added E2E module merging complete changes and modules)
=======
   "execution_count": 15,
>>>>>>> 01508cc (Added unit test cases)
   "metadata": {},
   "outputs": [],
   "source": [
    "#define a CNN model\n",
    "input_shape = (28, 28, 1)\n",
    "def create_model () :\n",
    "    num_classes = 10\n",
    "    model = Sequential ()\n",
    "    model. add (Convolution2D (32,kernel_size=(3, 3) ,activation='relu', input_shape=input_shape) )\n",
    "    model.add (Convolution2D(64, (3, 3), activation= 'relu' ))\n",
    "    model.add (MaxPooling2D(pool_size=(2, 2)))\n",
    "    model.add (Dropout (0.25 ) )\n",
    "    model.add (Flatten ( ))\n",
    "    model.add (Dense (256, activation='relu' ))\n",
    "    model.add (Dropout (0.5) )\n",
    "    model.add (Dense (num_classes, activation='softmax' ))\n",
    "    model.compile(loss= 'categorical_crossentropy',optimizer='adam', metrics=['accuracy'])\n",
    "    return model\n",
    "#build the model\n",
    "model = create_model()"
   ]
  },
  {
   "cell_type": "code",
<<<<<<< HEAD
<<<<<<< HEAD
   "execution_count": 16,
=======
   "execution_count": null,
>>>>>>> 4c0f327 (Added E2E module merging complete changes and modules)
=======
   "execution_count": 16,
>>>>>>> 01508cc (Added unit test cases)
   "metadata": {},
   "outputs": [
    {
     "name": "stdout",
     "output_type": "stream",
     "text": [
      "Epoch 1/10\n"
     ]
    },
    {
     "name": "stderr",
     "output_type": "stream",
     "text": [
<<<<<<< HEAD
<<<<<<< HEAD
      "2024-12-08 13:01:09.435021: W tensorflow/tsl/platform/profile_utils/cpu_utils.cc:128] Failed to get CPU frequency: 0 Hz\n"
=======
      "2024-12-07 22:32:40.269319: W tensorflow/tsl/platform/profile_utils/cpu_utils.cc:128] Failed to get CPU frequency: 0 Hz\n"
     ]
    },
    {
     "name": "stdout",
     "output_type": "stream",
     "text": [
      "300/300 - 23s - loss: 0.2345 - accuracy: 0.9275 - val_loss: 0.0503 - val_accuracy: 0.9838 - 23s/epoch - 75ms/step\n",
      "Epoch 2/10\n",
      "300/300 - 22s - loss: 0.0707 - accuracy: 0.9787 - val_loss: 0.0342 - val_accuracy: 0.9888 - 22s/epoch - 73ms/step\n",
      "Epoch 3/10\n",
      "300/300 - 22s - loss: 0.0508 - accuracy: 0.9842 - val_loss: 0.0309 - val_accuracy: 0.9893 - 22s/epoch - 73ms/step\n",
      "Epoch 4/10\n",
      "300/300 - 22s - loss: 0.0413 - accuracy: 0.9869 - val_loss: 0.0302 - val_accuracy: 0.9891 - 22s/epoch - 75ms/step\n",
      "Epoch 5/10\n",
      "300/300 - 23s - loss: 0.0340 - accuracy: 0.9889 - val_loss: 0.0279 - val_accuracy: 0.9905 - 23s/epoch - 76ms/step\n",
      "Epoch 6/10\n"
>>>>>>> 4c0f327 (Added E2E module merging complete changes and modules)
=======
      "2024-12-08 13:01:09.435021: W tensorflow/tsl/platform/profile_utils/cpu_utils.cc:128] Failed to get CPU frequency: 0 Hz\n"
>>>>>>> 01508cc (Added unit test cases)
     ]
    },
    {
     "ename": "KeyboardInterrupt",
     "evalue": "",
     "output_type": "error",
     "traceback": [
      "\u001b[0;31m---------------------------------------------------------------------------\u001b[0m",
      "\u001b[0;31mKeyboardInterrupt\u001b[0m                         Traceback (most recent call last)",
<<<<<<< HEAD
<<<<<<< HEAD
      "Cell \u001b[0;32mIn[16], line 2\u001b[0m\n\u001b[1;32m      1\u001b[0m \u001b[38;5;66;03m#fit the model\u001b[39;00m\n\u001b[0;32m----> 2\u001b[0m \u001b[43mmodel\u001b[49m\u001b[38;5;241;43m.\u001b[39;49m\u001b[43m \u001b[49m\u001b[43mfit\u001b[49m\u001b[43m(\u001b[49m\u001b[43mX_train\u001b[49m\u001b[43m,\u001b[49m\u001b[43m \u001b[49m\u001b[43my_train\u001b[49m\u001b[43m,\u001b[49m\u001b[43m \u001b[49m\u001b[43mvalidation_data\u001b[49m\u001b[38;5;241;43m=\u001b[39;49m\u001b[43m(\u001b[49m\u001b[43mX_test\u001b[49m\u001b[43m,\u001b[49m\u001b[43m \u001b[49m\u001b[43my_test\u001b[49m\u001b[43m)\u001b[49m\u001b[43m,\u001b[49m\u001b[43m \u001b[49m\u001b[43mepochs\u001b[49m\u001b[38;5;241;43m=\u001b[39;49m\u001b[38;5;241;43m10\u001b[39;49m\u001b[43m,\u001b[49m\u001b[43m \u001b[49m\u001b[43mbatch_size\u001b[49m\u001b[38;5;241;43m=\u001b[39;49m\u001b[38;5;241;43m200\u001b[39;49m\u001b[43m,\u001b[49m\u001b[43m \u001b[49m\u001b[43mverbose\u001b[49m\u001b[38;5;241;43m=\u001b[39;49m\u001b[38;5;241;43m2\u001b[39;49m\u001b[43m)\u001b[49m\n\u001b[1;32m      3\u001b[0m \u001b[38;5;28mprint\u001b[39m(\u001b[38;5;124m\"\u001b[39m\u001b[38;5;124mThe model has successfully trained\u001b[39m\u001b[38;5;124m\"\u001b[39m )\n\u001b[1;32m      4\u001b[0m \u001b[38;5;66;03m#Save the model\u001b[39;00m\n",
=======
      "Cell \u001b[0;32mIn[9], line 2\u001b[0m\n\u001b[1;32m      1\u001b[0m \u001b[38;5;66;03m#fit the model\u001b[39;00m\n\u001b[0;32m----> 2\u001b[0m \u001b[43mmodel\u001b[49m\u001b[38;5;241;43m.\u001b[39;49m\u001b[43m \u001b[49m\u001b[43mfit\u001b[49m\u001b[43m(\u001b[49m\u001b[43mX_train\u001b[49m\u001b[43m,\u001b[49m\u001b[43m \u001b[49m\u001b[43my_train\u001b[49m\u001b[43m,\u001b[49m\u001b[43m \u001b[49m\u001b[43mvalidation_data\u001b[49m\u001b[38;5;241;43m=\u001b[39;49m\u001b[43m(\u001b[49m\u001b[43mX_test\u001b[49m\u001b[43m,\u001b[49m\u001b[43m \u001b[49m\u001b[43my_test\u001b[49m\u001b[43m)\u001b[49m\u001b[43m,\u001b[49m\u001b[43m \u001b[49m\u001b[43mepochs\u001b[49m\u001b[38;5;241;43m=\u001b[39;49m\u001b[38;5;241;43m10\u001b[39;49m\u001b[43m,\u001b[49m\u001b[43m \u001b[49m\u001b[43mbatch_size\u001b[49m\u001b[38;5;241;43m=\u001b[39;49m\u001b[38;5;241;43m200\u001b[39;49m\u001b[43m,\u001b[49m\u001b[43m \u001b[49m\u001b[43mverbose\u001b[49m\u001b[38;5;241;43m=\u001b[39;49m\u001b[38;5;241;43m2\u001b[39;49m\u001b[43m)\u001b[49m\n\u001b[1;32m      3\u001b[0m \u001b[38;5;28mprint\u001b[39m(\u001b[38;5;124m\"\u001b[39m\u001b[38;5;124mThe model has successfully trained\u001b[39m\u001b[38;5;124m\"\u001b[39m )\n\u001b[1;32m      4\u001b[0m \u001b[38;5;66;03m#Save the model\u001b[39;00m\n",
>>>>>>> 4c0f327 (Added E2E module merging complete changes and modules)
=======
      "Cell \u001b[0;32mIn[16], line 2\u001b[0m\n\u001b[1;32m      1\u001b[0m \u001b[38;5;66;03m#fit the model\u001b[39;00m\n\u001b[0;32m----> 2\u001b[0m \u001b[43mmodel\u001b[49m\u001b[38;5;241;43m.\u001b[39;49m\u001b[43m \u001b[49m\u001b[43mfit\u001b[49m\u001b[43m(\u001b[49m\u001b[43mX_train\u001b[49m\u001b[43m,\u001b[49m\u001b[43m \u001b[49m\u001b[43my_train\u001b[49m\u001b[43m,\u001b[49m\u001b[43m \u001b[49m\u001b[43mvalidation_data\u001b[49m\u001b[38;5;241;43m=\u001b[39;49m\u001b[43m(\u001b[49m\u001b[43mX_test\u001b[49m\u001b[43m,\u001b[49m\u001b[43m \u001b[49m\u001b[43my_test\u001b[49m\u001b[43m)\u001b[49m\u001b[43m,\u001b[49m\u001b[43m \u001b[49m\u001b[43mepochs\u001b[49m\u001b[38;5;241;43m=\u001b[39;49m\u001b[38;5;241;43m10\u001b[39;49m\u001b[43m,\u001b[49m\u001b[43m \u001b[49m\u001b[43mbatch_size\u001b[49m\u001b[38;5;241;43m=\u001b[39;49m\u001b[38;5;241;43m200\u001b[39;49m\u001b[43m,\u001b[49m\u001b[43m \u001b[49m\u001b[43mverbose\u001b[49m\u001b[38;5;241;43m=\u001b[39;49m\u001b[38;5;241;43m2\u001b[39;49m\u001b[43m)\u001b[49m\n\u001b[1;32m      3\u001b[0m \u001b[38;5;28mprint\u001b[39m(\u001b[38;5;124m\"\u001b[39m\u001b[38;5;124mThe model has successfully trained\u001b[39m\u001b[38;5;124m\"\u001b[39m )\n\u001b[1;32m      4\u001b[0m \u001b[38;5;66;03m#Save the model\u001b[39;00m\n",
>>>>>>> 01508cc (Added unit test cases)
      "File \u001b[0;32m~/WorkSpace/myenv/lib/python3.9/site-packages/keras/utils/traceback_utils.py:65\u001b[0m, in \u001b[0;36mfilter_traceback.<locals>.error_handler\u001b[0;34m(*args, **kwargs)\u001b[0m\n\u001b[1;32m     63\u001b[0m filtered_tb \u001b[38;5;241m=\u001b[39m \u001b[38;5;28;01mNone\u001b[39;00m\n\u001b[1;32m     64\u001b[0m \u001b[38;5;28;01mtry\u001b[39;00m:\n\u001b[0;32m---> 65\u001b[0m     \u001b[38;5;28;01mreturn\u001b[39;00m \u001b[43mfn\u001b[49m\u001b[43m(\u001b[49m\u001b[38;5;241;43m*\u001b[39;49m\u001b[43margs\u001b[49m\u001b[43m,\u001b[49m\u001b[43m \u001b[49m\u001b[38;5;241;43m*\u001b[39;49m\u001b[38;5;241;43m*\u001b[39;49m\u001b[43mkwargs\u001b[49m\u001b[43m)\u001b[49m\n\u001b[1;32m     66\u001b[0m \u001b[38;5;28;01mexcept\u001b[39;00m \u001b[38;5;167;01mException\u001b[39;00m \u001b[38;5;28;01mas\u001b[39;00m e:\n\u001b[1;32m     67\u001b[0m     filtered_tb \u001b[38;5;241m=\u001b[39m _process_traceback_frames(e\u001b[38;5;241m.\u001b[39m__traceback__)\n",
      "File \u001b[0;32m~/WorkSpace/myenv/lib/python3.9/site-packages/keras/engine/training.py:1685\u001b[0m, in \u001b[0;36mModel.fit\u001b[0;34m(self, x, y, batch_size, epochs, verbose, callbacks, validation_split, validation_data, shuffle, class_weight, sample_weight, initial_epoch, steps_per_epoch, validation_steps, validation_batch_size, validation_freq, max_queue_size, workers, use_multiprocessing)\u001b[0m\n\u001b[1;32m   1677\u001b[0m \u001b[38;5;28;01mwith\u001b[39;00m tf\u001b[38;5;241m.\u001b[39mprofiler\u001b[38;5;241m.\u001b[39mexperimental\u001b[38;5;241m.\u001b[39mTrace(\n\u001b[1;32m   1678\u001b[0m     \u001b[38;5;124m\"\u001b[39m\u001b[38;5;124mtrain\u001b[39m\u001b[38;5;124m\"\u001b[39m,\n\u001b[1;32m   1679\u001b[0m     epoch_num\u001b[38;5;241m=\u001b[39mepoch,\n\u001b[0;32m   (...)\u001b[0m\n\u001b[1;32m   1682\u001b[0m     _r\u001b[38;5;241m=\u001b[39m\u001b[38;5;241m1\u001b[39m,\n\u001b[1;32m   1683\u001b[0m ):\n\u001b[1;32m   1684\u001b[0m     callbacks\u001b[38;5;241m.\u001b[39mon_train_batch_begin(step)\n\u001b[0;32m-> 1685\u001b[0m     tmp_logs \u001b[38;5;241m=\u001b[39m \u001b[38;5;28;43mself\u001b[39;49m\u001b[38;5;241;43m.\u001b[39;49m\u001b[43mtrain_function\u001b[49m\u001b[43m(\u001b[49m\u001b[43miterator\u001b[49m\u001b[43m)\u001b[49m\n\u001b[1;32m   1686\u001b[0m     \u001b[38;5;28;01mif\u001b[39;00m data_handler\u001b[38;5;241m.\u001b[39mshould_sync:\n\u001b[1;32m   1687\u001b[0m         context\u001b[38;5;241m.\u001b[39masync_wait()\n",
      "File \u001b[0;32m~/WorkSpace/myenv/lib/python3.9/site-packages/tensorflow/python/util/traceback_utils.py:150\u001b[0m, in \u001b[0;36mfilter_traceback.<locals>.error_handler\u001b[0;34m(*args, **kwargs)\u001b[0m\n\u001b[1;32m    148\u001b[0m filtered_tb \u001b[38;5;241m=\u001b[39m \u001b[38;5;28;01mNone\u001b[39;00m\n\u001b[1;32m    149\u001b[0m \u001b[38;5;28;01mtry\u001b[39;00m:\n\u001b[0;32m--> 150\u001b[0m   \u001b[38;5;28;01mreturn\u001b[39;00m \u001b[43mfn\u001b[49m\u001b[43m(\u001b[49m\u001b[38;5;241;43m*\u001b[39;49m\u001b[43margs\u001b[49m\u001b[43m,\u001b[49m\u001b[43m \u001b[49m\u001b[38;5;241;43m*\u001b[39;49m\u001b[38;5;241;43m*\u001b[39;49m\u001b[43mkwargs\u001b[49m\u001b[43m)\u001b[49m\n\u001b[1;32m    151\u001b[0m \u001b[38;5;28;01mexcept\u001b[39;00m \u001b[38;5;167;01mException\u001b[39;00m \u001b[38;5;28;01mas\u001b[39;00m e:\n\u001b[1;32m    152\u001b[0m   filtered_tb \u001b[38;5;241m=\u001b[39m _process_traceback_frames(e\u001b[38;5;241m.\u001b[39m__traceback__)\n",
      "File \u001b[0;32m~/WorkSpace/myenv/lib/python3.9/site-packages/tensorflow/python/eager/polymorphic_function/polymorphic_function.py:894\u001b[0m, in \u001b[0;36mFunction.__call__\u001b[0;34m(self, *args, **kwds)\u001b[0m\n\u001b[1;32m    891\u001b[0m compiler \u001b[38;5;241m=\u001b[39m \u001b[38;5;124m\"\u001b[39m\u001b[38;5;124mxla\u001b[39m\u001b[38;5;124m\"\u001b[39m \u001b[38;5;28;01mif\u001b[39;00m \u001b[38;5;28mself\u001b[39m\u001b[38;5;241m.\u001b[39m_jit_compile \u001b[38;5;28;01melse\u001b[39;00m \u001b[38;5;124m\"\u001b[39m\u001b[38;5;124mnonXla\u001b[39m\u001b[38;5;124m\"\u001b[39m\n\u001b[1;32m    893\u001b[0m \u001b[38;5;28;01mwith\u001b[39;00m OptionalXlaContext(\u001b[38;5;28mself\u001b[39m\u001b[38;5;241m.\u001b[39m_jit_compile):\n\u001b[0;32m--> 894\u001b[0m   result \u001b[38;5;241m=\u001b[39m \u001b[38;5;28;43mself\u001b[39;49m\u001b[38;5;241;43m.\u001b[39;49m\u001b[43m_call\u001b[49m\u001b[43m(\u001b[49m\u001b[38;5;241;43m*\u001b[39;49m\u001b[43margs\u001b[49m\u001b[43m,\u001b[49m\u001b[43m \u001b[49m\u001b[38;5;241;43m*\u001b[39;49m\u001b[38;5;241;43m*\u001b[39;49m\u001b[43mkwds\u001b[49m\u001b[43m)\u001b[49m\n\u001b[1;32m    896\u001b[0m new_tracing_count \u001b[38;5;241m=\u001b[39m \u001b[38;5;28mself\u001b[39m\u001b[38;5;241m.\u001b[39mexperimental_get_tracing_count()\n\u001b[1;32m    897\u001b[0m without_tracing \u001b[38;5;241m=\u001b[39m (tracing_count \u001b[38;5;241m==\u001b[39m new_tracing_count)\n",
      "File \u001b[0;32m~/WorkSpace/myenv/lib/python3.9/site-packages/tensorflow/python/eager/polymorphic_function/polymorphic_function.py:926\u001b[0m, in \u001b[0;36mFunction._call\u001b[0;34m(self, *args, **kwds)\u001b[0m\n\u001b[1;32m    923\u001b[0m   \u001b[38;5;28mself\u001b[39m\u001b[38;5;241m.\u001b[39m_lock\u001b[38;5;241m.\u001b[39mrelease()\n\u001b[1;32m    924\u001b[0m   \u001b[38;5;66;03m# In this case we have created variables on the first call, so we run the\u001b[39;00m\n\u001b[1;32m    925\u001b[0m   \u001b[38;5;66;03m# defunned version which is guaranteed to never create variables.\u001b[39;00m\n\u001b[0;32m--> 926\u001b[0m   \u001b[38;5;28;01mreturn\u001b[39;00m \u001b[38;5;28;43mself\u001b[39;49m\u001b[38;5;241;43m.\u001b[39;49m\u001b[43m_no_variable_creation_fn\u001b[49m\u001b[43m(\u001b[49m\u001b[38;5;241;43m*\u001b[39;49m\u001b[43margs\u001b[49m\u001b[43m,\u001b[49m\u001b[43m \u001b[49m\u001b[38;5;241;43m*\u001b[39;49m\u001b[38;5;241;43m*\u001b[39;49m\u001b[43mkwds\u001b[49m\u001b[43m)\u001b[49m  \u001b[38;5;66;03m# pylint: disable=not-callable\u001b[39;00m\n\u001b[1;32m    927\u001b[0m \u001b[38;5;28;01melif\u001b[39;00m \u001b[38;5;28mself\u001b[39m\u001b[38;5;241m.\u001b[39m_variable_creation_fn \u001b[38;5;129;01mis\u001b[39;00m \u001b[38;5;129;01mnot\u001b[39;00m \u001b[38;5;28;01mNone\u001b[39;00m:\n\u001b[1;32m    928\u001b[0m   \u001b[38;5;66;03m# Release the lock early so that multiple threads can perform the call\u001b[39;00m\n\u001b[1;32m    929\u001b[0m   \u001b[38;5;66;03m# in parallel.\u001b[39;00m\n\u001b[1;32m    930\u001b[0m   \u001b[38;5;28mself\u001b[39m\u001b[38;5;241m.\u001b[39m_lock\u001b[38;5;241m.\u001b[39mrelease()\n",
      "File \u001b[0;32m~/WorkSpace/myenv/lib/python3.9/site-packages/tensorflow/python/eager/polymorphic_function/tracing_compiler.py:143\u001b[0m, in \u001b[0;36mTracingCompiler.__call__\u001b[0;34m(self, *args, **kwargs)\u001b[0m\n\u001b[1;32m    140\u001b[0m \u001b[38;5;28;01mwith\u001b[39;00m \u001b[38;5;28mself\u001b[39m\u001b[38;5;241m.\u001b[39m_lock:\n\u001b[1;32m    141\u001b[0m   (concrete_function,\n\u001b[1;32m    142\u001b[0m    filtered_flat_args) \u001b[38;5;241m=\u001b[39m \u001b[38;5;28mself\u001b[39m\u001b[38;5;241m.\u001b[39m_maybe_define_function(args, kwargs)\n\u001b[0;32m--> 143\u001b[0m \u001b[38;5;28;01mreturn\u001b[39;00m \u001b[43mconcrete_function\u001b[49m\u001b[38;5;241;43m.\u001b[39;49m\u001b[43m_call_flat\u001b[49m\u001b[43m(\u001b[49m\n\u001b[1;32m    144\u001b[0m \u001b[43m    \u001b[49m\u001b[43mfiltered_flat_args\u001b[49m\u001b[43m,\u001b[49m\u001b[43m \u001b[49m\u001b[43mcaptured_inputs\u001b[49m\u001b[38;5;241;43m=\u001b[39;49m\u001b[43mconcrete_function\u001b[49m\u001b[38;5;241;43m.\u001b[39;49m\u001b[43mcaptured_inputs\u001b[49m\u001b[43m)\u001b[49m\n",
      "File \u001b[0;32m~/WorkSpace/myenv/lib/python3.9/site-packages/tensorflow/python/eager/polymorphic_function/monomorphic_function.py:1757\u001b[0m, in \u001b[0;36mConcreteFunction._call_flat\u001b[0;34m(self, args, captured_inputs, cancellation_manager)\u001b[0m\n\u001b[1;32m   1753\u001b[0m possible_gradient_type \u001b[38;5;241m=\u001b[39m gradients_util\u001b[38;5;241m.\u001b[39mPossibleTapeGradientTypes(args)\n\u001b[1;32m   1754\u001b[0m \u001b[38;5;28;01mif\u001b[39;00m (possible_gradient_type \u001b[38;5;241m==\u001b[39m gradients_util\u001b[38;5;241m.\u001b[39mPOSSIBLE_GRADIENT_TYPES_NONE\n\u001b[1;32m   1755\u001b[0m     \u001b[38;5;129;01mand\u001b[39;00m executing_eagerly):\n\u001b[1;32m   1756\u001b[0m   \u001b[38;5;66;03m# No tape is watching; skip to running the function.\u001b[39;00m\n\u001b[0;32m-> 1757\u001b[0m   \u001b[38;5;28;01mreturn\u001b[39;00m \u001b[38;5;28mself\u001b[39m\u001b[38;5;241m.\u001b[39m_build_call_outputs(\u001b[38;5;28;43mself\u001b[39;49m\u001b[38;5;241;43m.\u001b[39;49m\u001b[43m_inference_function\u001b[49m\u001b[38;5;241;43m.\u001b[39;49m\u001b[43mcall\u001b[49m\u001b[43m(\u001b[49m\n\u001b[1;32m   1758\u001b[0m \u001b[43m      \u001b[49m\u001b[43mctx\u001b[49m\u001b[43m,\u001b[49m\u001b[43m \u001b[49m\u001b[43margs\u001b[49m\u001b[43m,\u001b[49m\u001b[43m \u001b[49m\u001b[43mcancellation_manager\u001b[49m\u001b[38;5;241;43m=\u001b[39;49m\u001b[43mcancellation_manager\u001b[49m\u001b[43m)\u001b[49m)\n\u001b[1;32m   1759\u001b[0m forward_backward \u001b[38;5;241m=\u001b[39m \u001b[38;5;28mself\u001b[39m\u001b[38;5;241m.\u001b[39m_select_forward_and_backward_functions(\n\u001b[1;32m   1760\u001b[0m     args,\n\u001b[1;32m   1761\u001b[0m     possible_gradient_type,\n\u001b[1;32m   1762\u001b[0m     executing_eagerly)\n\u001b[1;32m   1763\u001b[0m forward_function, args_with_tangents \u001b[38;5;241m=\u001b[39m forward_backward\u001b[38;5;241m.\u001b[39mforward()\n",
      "File \u001b[0;32m~/WorkSpace/myenv/lib/python3.9/site-packages/tensorflow/python/eager/polymorphic_function/monomorphic_function.py:381\u001b[0m, in \u001b[0;36m_EagerDefinedFunction.call\u001b[0;34m(self, ctx, args, cancellation_manager)\u001b[0m\n\u001b[1;32m    379\u001b[0m \u001b[38;5;28;01mwith\u001b[39;00m _InterpolateFunctionError(\u001b[38;5;28mself\u001b[39m):\n\u001b[1;32m    380\u001b[0m   \u001b[38;5;28;01mif\u001b[39;00m cancellation_manager \u001b[38;5;129;01mis\u001b[39;00m \u001b[38;5;28;01mNone\u001b[39;00m:\n\u001b[0;32m--> 381\u001b[0m     outputs \u001b[38;5;241m=\u001b[39m \u001b[43mexecute\u001b[49m\u001b[38;5;241;43m.\u001b[39;49m\u001b[43mexecute\u001b[49m\u001b[43m(\u001b[49m\n\u001b[1;32m    382\u001b[0m \u001b[43m        \u001b[49m\u001b[38;5;28;43mstr\u001b[39;49m\u001b[43m(\u001b[49m\u001b[38;5;28;43mself\u001b[39;49m\u001b[38;5;241;43m.\u001b[39;49m\u001b[43msignature\u001b[49m\u001b[38;5;241;43m.\u001b[39;49m\u001b[43mname\u001b[49m\u001b[43m)\u001b[49m\u001b[43m,\u001b[49m\n\u001b[1;32m    383\u001b[0m \u001b[43m        \u001b[49m\u001b[43mnum_outputs\u001b[49m\u001b[38;5;241;43m=\u001b[39;49m\u001b[38;5;28;43mself\u001b[39;49m\u001b[38;5;241;43m.\u001b[39;49m\u001b[43m_num_outputs\u001b[49m\u001b[43m,\u001b[49m\n\u001b[1;32m    384\u001b[0m \u001b[43m        \u001b[49m\u001b[43minputs\u001b[49m\u001b[38;5;241;43m=\u001b[39;49m\u001b[43margs\u001b[49m\u001b[43m,\u001b[49m\n\u001b[1;32m    385\u001b[0m \u001b[43m        \u001b[49m\u001b[43mattrs\u001b[49m\u001b[38;5;241;43m=\u001b[39;49m\u001b[43mattrs\u001b[49m\u001b[43m,\u001b[49m\n\u001b[1;32m    386\u001b[0m \u001b[43m        \u001b[49m\u001b[43mctx\u001b[49m\u001b[38;5;241;43m=\u001b[39;49m\u001b[43mctx\u001b[49m\u001b[43m)\u001b[49m\n\u001b[1;32m    387\u001b[0m   \u001b[38;5;28;01melse\u001b[39;00m:\n\u001b[1;32m    388\u001b[0m     outputs \u001b[38;5;241m=\u001b[39m execute\u001b[38;5;241m.\u001b[39mexecute_with_cancellation(\n\u001b[1;32m    389\u001b[0m         \u001b[38;5;28mstr\u001b[39m(\u001b[38;5;28mself\u001b[39m\u001b[38;5;241m.\u001b[39msignature\u001b[38;5;241m.\u001b[39mname),\n\u001b[1;32m    390\u001b[0m         num_outputs\u001b[38;5;241m=\u001b[39m\u001b[38;5;28mself\u001b[39m\u001b[38;5;241m.\u001b[39m_num_outputs,\n\u001b[0;32m   (...)\u001b[0m\n\u001b[1;32m    393\u001b[0m         ctx\u001b[38;5;241m=\u001b[39mctx,\n\u001b[1;32m    394\u001b[0m         cancellation_manager\u001b[38;5;241m=\u001b[39mcancellation_manager)\n",
      "File \u001b[0;32m~/WorkSpace/myenv/lib/python3.9/site-packages/tensorflow/python/eager/execute.py:52\u001b[0m, in \u001b[0;36mquick_execute\u001b[0;34m(op_name, num_outputs, inputs, attrs, ctx, name)\u001b[0m\n\u001b[1;32m     50\u001b[0m \u001b[38;5;28;01mtry\u001b[39;00m:\n\u001b[1;32m     51\u001b[0m   ctx\u001b[38;5;241m.\u001b[39mensure_initialized()\n\u001b[0;32m---> 52\u001b[0m   tensors \u001b[38;5;241m=\u001b[39m \u001b[43mpywrap_tfe\u001b[49m\u001b[38;5;241;43m.\u001b[39;49m\u001b[43mTFE_Py_Execute\u001b[49m\u001b[43m(\u001b[49m\u001b[43mctx\u001b[49m\u001b[38;5;241;43m.\u001b[39;49m\u001b[43m_handle\u001b[49m\u001b[43m,\u001b[49m\u001b[43m \u001b[49m\u001b[43mdevice_name\u001b[49m\u001b[43m,\u001b[49m\u001b[43m \u001b[49m\u001b[43mop_name\u001b[49m\u001b[43m,\u001b[49m\n\u001b[1;32m     53\u001b[0m \u001b[43m                                      \u001b[49m\u001b[43minputs\u001b[49m\u001b[43m,\u001b[49m\u001b[43m \u001b[49m\u001b[43mattrs\u001b[49m\u001b[43m,\u001b[49m\u001b[43m \u001b[49m\u001b[43mnum_outputs\u001b[49m\u001b[43m)\u001b[49m\n\u001b[1;32m     54\u001b[0m \u001b[38;5;28;01mexcept\u001b[39;00m core\u001b[38;5;241m.\u001b[39m_NotOkStatusException \u001b[38;5;28;01mas\u001b[39;00m e:\n\u001b[1;32m     55\u001b[0m   \u001b[38;5;28;01mif\u001b[39;00m name \u001b[38;5;129;01mis\u001b[39;00m \u001b[38;5;129;01mnot\u001b[39;00m \u001b[38;5;28;01mNone\u001b[39;00m:\n",
      "\u001b[0;31mKeyboardInterrupt\u001b[0m: "
     ]
    }
   ],
   "source": [
    "#fit the model\n",
    "model. fit(X_train, y_train, validation_data=(X_test, y_test), epochs=10, batch_size=200, verbose=2)\n",
    "print(\"The model has successfully trained\" )\n",
    "#Save the model\n",
    "model.save('model.h5')\n",
    "print (\"The model has successfully saved\")"
   ]
  },
  {
   "cell_type": "code",
   "execution_count": null,
   "metadata": {},
   "outputs": [
    {
     "name": "stdout",
     "output_type": "stream",
     "text": [
      "CNN Error: 0.808g\n"
     ]
    }
   ],
   "source": [
    "#Evaluate the model\n",
    "scores = model.evaluate(X_test, y_test, verbose=0)\n",
    "print (\"CNN Error: %.2f8g\" % (100-scores[1]*100))"
   ]
  },
  {
   "cell_type": "code",
<<<<<<< HEAD
<<<<<<< HEAD
   "execution_count": null,
=======
   "execution_count": 9,
>>>>>>> 4c0f327 (Added E2E module merging complete changes and modules)
=======
   "execution_count": null,
>>>>>>> 01508cc (Added unit test cases)
   "metadata": {},
   "outputs": [
    {
     "name": "stdout",
     "output_type": "stream",
     "text": [
      "uploading Model to S3\n"
     ]
    },
    {
     "name": "stderr",
     "output_type": "stream",
     "text": [
      "INFO:File uploaded at: digit-recog-example/model.h5\n"
     ]
    }
   ],
   "source": [
    "print(\"uploading Model to S3\")\n",
    "s3_helper = S3Helper()\n",
    "\n",
    "OUTPUTS_BUCKET = \"se-project-ext-outputs\"\n",
    "model_file = \"model.h5\"\n",
    "s3_key = f\"digit-recog-example/{model_file}\"\n",
    "s3_helper.upload_file(model_file, s3_key, OUTPUTS_BUCKET)"
   ]
  },
  {
   "cell_type": "code",
   "execution_count": null,
   "metadata": {},
   "outputs": [],
   "source": []
  }
 ],
 "metadata": {
  "kernelspec": {
   "display_name": "Python 3",
   "language": "python",
   "name": "python3"
  },
  "language_info": {
   "codemirror_mode": {
    "name": "ipython",
    "version": 3
   },
   "file_extension": ".py",
   "mimetype": "text/x-python",
   "name": "python",
   "nbconvert_exporter": "python",
   "pygments_lexer": "ipython3",
   "version": "3.9.15"
  }
 },
 "nbformat": 4,
 "nbformat_minor": 2
}
