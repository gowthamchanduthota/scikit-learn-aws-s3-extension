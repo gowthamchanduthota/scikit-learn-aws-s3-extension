{
 "cells": [
  {
   "cell_type": "code",
   "execution_count": 7,
   "metadata": {},
   "outputs": [],
   "source": [
    "import tkinter as tk\n",
    "from PIL import ImageGrab, Image\n",
    "import numpy as np\n",
    "import tensorflow as tf\n",
    "import cv2\n",
    "\n",
    "# Load the trained model\n",
    "model = tf.keras.models.load_model(\"model.h5\")"
   ]
  },
  {
   "cell_type": "code",
   "execution_count": 8,
   "metadata": {},
   "outputs": [],
   "source": [
    "\n",
    "\n",
    "\n",
    "# Initialize the GUI\n",
    "class DigitRecognizerApp:\n",
    "    def __init__(self, root):\n",
    "        self.root = root\n",
    "        self.root.title(\"Handwritten Digit Recognizer\")\n",
    "\n",
    "        # Create a canvas for drawing\n",
    "        self.canvas = tk.Canvas(root, width=300, height=300, bg=\"white\")\n",
    "        self.canvas.pack()\n",
    "        self.canvas.bind(\"<B1-Motion>\", self.draw)\n",
    "\n",
    "        # Button to recognize digits\n",
    "        self.recognize_button = tk.Button(root, text=\"Recognize\", command=self.recognize)\n",
    "        self.recognize_button.pack()\n",
    "\n",
    "        # Button to clear the canvas\n",
    "        self.clear_button = tk.Button(root, text=\"Clear\", command=self.clear_canvas)\n",
    "        self.clear_button.pack()\n",
    "\n",
    "    def draw(self, event):\n",
    "        # Draw on the canvas\n",
    "        x, y = event.x, event.y\n",
    "        r = 8\n",
    "        self.canvas.create_oval(x - r, y - r, x + r, y + r, fill=\"black\")\n",
    "\n",
    "    def clear_canvas(self):\n",
    "        self.canvas.delete(\"all\")\n",
    "\n",
    "    def recognize(self):\n",
    "        # Capture canvas content as an image\n",
    "        x = self.root.winfo_rootx() + self.canvas.winfo_x()\n",
    "        y = self.root.winfo_rooty() + self.canvas.winfo_y()\n",
    "        x1 = x + self.canvas.winfo_width()\n",
    "        y1 = y + self.canvas.winfo_height()\n",
    "        image = ImageGrab.grab().crop((x, y, x1, y1)).convert(\"L\")\n",
    "\n",
    "        # Process the image for bounding box detection\n",
    "        image_np = np.array(image)\n",
    "        _, thresh = cv2.threshold(image_np, 128, 255, cv2.THRESH_BINARY_INV)\n",
    "        contours, _ = cv2.findContours(thresh, cv2.RETR_EXTERNAL, cv2.CHAIN_APPROX_SIMPLE)\n",
    "\n",
    "        # Recognize each digit in bounding boxes\n",
    "        for contour in contours:\n",
    "            x, y, w, h = cv2.boundingRect(contour)\n",
    "            digit_image = image_np[y:y+h, x:x+w]\n",
    "            digit_image = cv2.resize(digit_image, (28, 28))\n",
    "            digit_image = digit_image / 255.0\n",
    "            digit_image = digit_image.reshape(1, 28, 28, 1)\n",
    "            prediction = model.predict(digit_image)\n",
    "            digit = np.argmax(prediction)\n",
    "\n",
    "            # Draw bounding box and display prediction on the canvas\n",
    "            self.canvas.create_rectangle(x, y, x + w, y + h, outline=\"red\")\n",
    "            self.canvas.create_text(x + w // 2, y - 10, text=str(digit), fill=\"blue\")\n",
    "\n",
    "\n"
   ]
  },
  {
   "cell_type": "code",
   "execution_count": 9,
   "metadata": {},
   "outputs": [
    {
     "name": "stderr",
     "output_type": "stream",
     "text": [
      "2024-11-11 14:40:17.040 python[20463:914213] +[IMKClient subclass]: chose IMKClient_Legacy\n"
     ]
    },
    {
     "name": "stdout",
     "output_type": "stream",
     "text": [
      "1/1 [==============================] - 0s 60ms/step\n",
      "1/1 [==============================] - 0s 13ms/step\n",
      "1/1 [==============================] - 0s 13ms/step\n",
      "1/1 [==============================] - 0s 12ms/step\n",
      "1/1 [==============================] - 0s 13ms/step\n",
      "1/1 [==============================] - ETA: 0s"
     ]
    },
    {
     "name": "stderr",
     "output_type": "stream",
     "text": [
      "2024-11-11 14:40:21.494912: W tensorflow/tsl/platform/profile_utils/cpu_utils.cc:128] Failed to get CPU frequency: 0 Hz\n"
     ]
    },
    {
     "name": "stdout",
     "output_type": "stream",
     "text": [
      "1/1 [==============================] - 0s 12ms/step\n",
      "1/1 [==============================] - 0s 13ms/step\n",
      "1/1 [==============================] - 0s 13ms/step\n",
      "1/1 [==============================] - 0s 13ms/step\n",
      "1/1 [==============================] - 0s 12ms/step\n",
      "1/1 [==============================] - 0s 12ms/step\n",
      "1/1 [==============================] - 0s 12ms/step\n",
      "1/1 [==============================] - 0s 13ms/step\n"
     ]
    }
   ],
   "source": [
    "# Initialize the Tkinter root and app\n",
    "root = tk.Tk()\n",
    "app = DigitRecognizerApp(root)\n",
    "root.mainloop()"
   ]
  },
  {
   "cell_type": "code",
   "execution_count": null,
   "metadata": {},
   "outputs": [],
   "source": []
  }
 ],
 "metadata": {
  "kernelspec": {
   "display_name": "Python 3",
   "language": "python",
   "name": "python3"
  },
  "language_info": {
   "codemirror_mode": {
    "name": "ipython",
    "version": 3
   },
   "file_extension": ".py",
   "mimetype": "text/x-python",
   "name": "python",
   "nbconvert_exporter": "python",
   "pygments_lexer": "ipython3",
   "version": "3.10.8"
  }
 },
 "nbformat": 4,
 "nbformat_minor": 2
}
