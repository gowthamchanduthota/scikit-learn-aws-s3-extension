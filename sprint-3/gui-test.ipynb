{
 "cells": [
  {
   "cell_type": "code",
   "execution_count": 2,
   "metadata": {},
   "outputs": [],
   "source": [
    "#import libraries\n",
    "import os\n",
    "import PIL\n",
    "import cv2\n",
    "import glob\n",
    "import numpy as np\n",
    "from tkinter import *\n",
    "from PIL import Image, ImageDraw, ImageGrab\n"
   ]
  },
  {
   "cell_type": "code",
   "execution_count": 3,
   "metadata": {},
   "outputs": [
    {
     "name": "stdout",
     "output_type": "stream",
     "text": [
      "Model load Successfully, Go for the APP\n"
     ]
    },
    {
     "data": {
      "text/plain": [
       "''"
      ]
     },
     "execution_count": 3,
     "metadata": {},
     "output_type": "execute_result"
    }
   ],
   "source": [
    "#load model\n",
    "from keras.models import load_model\n",
    "model = load_model('model.h5')\n",
    "print(\"Model load Successfully, Go for the APP\")\n",
    "\n",
    "\n",
    "#create a main window first (named as root) •\n",
    "root = Tk( )\n",
    "root. resizable (0, 0)\n",
    "root. title (\"Handwritten Digit Recognition GUI App\")\n",
    "\n"
   ]
  },
  {
   "cell_type": "code",
   "execution_count": 4,
   "metadata": {},
   "outputs": [],
   "source": [
    "def clear_widget():\n",
    "    global cv\n",
    "    # To clear a canvas\n",
    "    cv.delete (\"all\")\n",
    "\n",
    "def activate_event(event) :\n",
    "    global lastx, lasty\n",
    "    # <B1-Motion>\n",
    "    cv.bind('<B1-Motion>', draw_lines)\n",
    "    lastx, lasty = event.x, event.y\n",
    "\n",
    "def draw_lines(event) :\n",
    "    global lastx, lasty\n",
    "    x, y = event.x, event.y\n",
    "    # do the canvas drawings\n",
    "    cv.create_line((lastx, lasty, x, y),width=8, fill='black', capstyle=ROUND, smooth=TRUE, splinesteps=12)\n",
    "    lastx, lasty = x, y"
   ]
  },
  {
   "cell_type": "code",
   "execution_count": 5,
   "metadata": {},
   "outputs": [],
   "source": [
    "def Recognize_Digit():\n",
    "    global image_number\n",
    "    predictions = []\n",
    "    percentage = []\n",
    "    #image_number = 0\n",
    "    filename = f'image_{image_number}.png'\n",
    "    widget=cv\n",
    "    # get the widget coordinates\n",
    "    x=root.winfo_rootx()+widget.winfo_x()\n",
    "    y=root.winfo_rooty ()+widget.winfo_y ()\n",
    "    x1=x+widget.winfo_width()\n",
    "    y1=y+widget.winfo_height ()\n",
    "    #grab the image, crop it according to my requirement and saved it in png format\n",
    "    ImageGrab.grab().crop ((x,y, x1, y1)).save (filename )\n",
    "    # read the image in color format\n",
    "    image = cv2. imread (filename, cv2. IMREAD_COLOR)\n",
    "    # convert the image in grayscale\n",
    "    gray = cv2.cvtColor(image, cv2. COLOR_BGR2GRAY )\n",
    "    # applying Otsu thresholding\n",
    "    ret, th = cv2. threshold(gray, 0,255, cv2.THRESH_BINARY_INV+cv2. THRESH_OTSU)\n",
    "    # findContour() function helps in extracting the contours from the image.\n",
    "    contours= cv2. findContours(th, cv2. RETR_EXTERNAL, cv2.CHAIN_APPROX_SIMPLE) [0]\n",
    "    for cnt in contours:\n",
    "        # Get bounding box and extract ROI\n",
    "        x, y,w, h = cv2.boundingRect (cnt)\n",
    "        # Create rectangle\n",
    "        cv2. rectangle (image, (x,y), (x+w, y+h), (255, 0, 0) , 1)\n",
    "        top = int (0.05 * th. shape [0])\n",
    "        bottom = top\n",
    "        left = int (0.05 * th. shape[1])\n",
    "        right = left\n",
    "        th_up = cv2. copyMakeBorder(th, top, bottom, left, right, cv2. BORDER_REPLICATE)\n",
    "        #Extract the image ROI\n",
    "        roi= th[y-top:y+h+bottom, x-left:x+w+right]\n",
    "        # resize roi image to 28x28 pixels\n",
    "        # print(roi.shape)\n",
    "        img = cv2. resize (roi, (28, 28), interpolation=cv2. INTER_AREA)\n",
    "        #reshaping the image to support our model input\n",
    "        img = img. reshape (1, 28,28,1)\n",
    "        #normalizing the image to support our model input\n",
    "        img = img/255.0\n",
    "        #its time to predict the result\n",
    "        pred = model.predict( [img]) [0]\n",
    "        #numpy. argmaxinput array) Returns the indices of the maximum values.\n",
    "        final_pred = np.argmax (pred)\n",
    "        data = str (final_pred) +' '+ str(int (max(pred) *100) )+'%'\n",
    "        #cv2. putText) method is used to draw a text string on image.\n",
    "        font = cv2. FONT_HERSHEY_SIMPLEX\n",
    "        fontScale = 0.5\n",
    "        color = (255, 0, 0)\n",
    "        thickness = 1\n",
    "        cv2. putText (image, data, (x,y-5), font, fontScale, color, thickness)\n",
    "    # Showing the predicted results on new window.\n",
    "    cv2. imshow ( 'image', image)\n",
    "    cv2. waitKey (0)"
   ]
  },
  {
   "cell_type": "code",
   "execution_count": null,
   "metadata": {},
   "outputs": [
    {
     "name": "stderr",
     "output_type": "stream",
     "text": [
      "2024-11-11 19:49:30.930 python[46176:1071962] +[IMKClient subclass]: chose IMKClient_Legacy\n"
     ]
    },
    {
     "name": "stdout",
     "output_type": "stream",
     "text": [
      "1/1 [==============================] - 0s 49ms/step\n",
      "1/1 [==============================] - 0s 11ms/step\n",
      "1/1 [==============================] - 0s 10ms/step\n"
     ]
    },
    {
     "name": "stderr",
     "output_type": "stream",
     "text": [
      "2024-11-11 19:49:36.954151: W tensorflow/tsl/platform/profile_utils/cpu_utils.cc:128] Failed to get CPU frequency: 0 Hz\n"
     ]
    },
    {
     "ename": "",
     "evalue": "",
     "output_type": "error",
     "traceback": [
      "\u001b[1;31mThe Kernel crashed while executing code in the current cell or a previous cell. \n",
      "\u001b[1;31mPlease review the code in the cell(s) to identify a possible cause of the failure. \n",
      "\u001b[1;31mClick <a href='https://aka.ms/vscodeJupyterKernelCrash'>here</a> for more info. \n",
      "\u001b[1;31mView Jupyter <a href='command:jupyter.viewOutput'>log</a> for further details."
     ]
    }
   ],
   "source": [
    "#Initialize few variables\n",
    "lastx, lasty = None, None\n",
    "image_number = 0\n",
    "#create a canvas for drawing\n",
    "cv = Canvas (root, width=640, height=480, bg='white')\n",
    "cv.grid (row=0, column=0, pady=2, sticky=W, columnspan=2 )\n",
    "#kinter provides a powerful mechanism to let you deal with events yourself.\n",
    "cv.bind('<Button-1>', activate_event)\n",
    "#Add Buttons and Labels\n",
    "btn_save = Button (text=\"Recognize Digit\", command=Recognize_Digit)\n",
    "btn_save.grid(row=2, column=0, pady=1, padx=1)\n",
    "button_clear = Button(text = \"Clear Widget\", command = clear_widget)\n",
    "button_clear.grid(row=2, column=1, pady=1, padx=1)\n",
    "#mainloop() is used when your application is ready to run.\n",
    "root .mainloop()\n"
   ]
  },
  {
   "cell_type": "code",
   "execution_count": null,
   "metadata": {},
   "outputs": [],
   "source": []
  }
 ],
 "metadata": {
  "kernelspec": {
   "display_name": "Python 3",
   "language": "python",
   "name": "python3"
  },
  "language_info": {
   "codemirror_mode": {
    "name": "ipython",
    "version": 3
   },
   "file_extension": ".py",
   "mimetype": "text/x-python",
   "name": "python",
   "nbconvert_exporter": "python",
   "pygments_lexer": "ipython3",
   "version": "3.10.8"
  }
 },
 "nbformat": 4,
 "nbformat_minor": 2
}
