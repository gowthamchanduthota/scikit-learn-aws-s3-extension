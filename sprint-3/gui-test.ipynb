{
 "cells": [
  {
   "cell_type": "code",
   "execution_count": 7,
   "metadata": {},
   "outputs": [],
   "source": [
    "#import libraries\n",
    "import os\n",
    "import PIL\n",
    "import cv2\n",
    "import glob\n",
    "import numpy as np\n",
    "from tkinter import *\n",
    "from PIL import Image, ImageDraw, ImageGrab\n",
    "from keras.models import load_model\n",
    "from keras.datasets import mnist\n",
    "from keras.utils import to_categorical\n",
    "from keras.models import Sequential\n",
    "from keras.layers import Dense, Dropout, Flatten, Convolution2D, MaxPooling2D\n",
    "import tensorflow as tf\n",
    "from tkinter import *\n",
    "from tkinter import messagebox, simpledialog  # Import for askyesno and simpledialog\n",
    "\n"
   ]
  },
  {
   "cell_type": "code",
   "execution_count": 8,
   "metadata": {},
   "outputs": [
    {
     "name": "stdout",
     "output_type": "stream",
     "text": [
      "Model loaded successfully, ready to use the APP.\n"
     ]
    },
    {
     "data": {
      "text/plain": [
       "''"
      ]
     },
     "execution_count": 8,
     "metadata": {},
     "output_type": "execute_result"
    }
   ],
   "source": [
    "# #load model\n",
    "# from keras.models import load_model\n",
    "# model = load_model('model.h5')\n",
    "# print(\"Model load Successfully, Go for the APP\")\n",
    "\n",
    "model_path = 'model.h5'\n",
    "model = load_model(model_path)\n",
    "print(\"Model loaded successfully, ready to use the APP.\")\n",
    "\n",
    "\n",
    "#create a main window first (named as root) •\n",
    "root = Tk( )\n",
    "root. resizable (0, 0)\n",
    "root. title (\"Handwritten Digit Recognition GUI App\")\n",
    "\n"
   ]
  },
  {
   "cell_type": "code",
<<<<<<< HEAD
<<<<<<< HEAD
   "execution_count": 9,
=======
   "execution_count": 6,
>>>>>>> 35e1e18 (Update gui-test.ipynb)
=======
   "execution_count": 6,
=======
   "execution_count": 4,
>>>>>>> 2c2f718 (Added digit rec)
>>>>>>> f7341cf (Added digit rec)
   "metadata": {},
   "outputs": [],
   "source": [
    "def clear_widget():\n",
    "    global cv\n",
    "    cv.delete(\"all\")\n",
    "\n",
    "def activate_event(event):\n",
    "    global lastx, lasty\n",
    "    cv.bind('<B1-Motion>', draw_lines)\n",
    "    lastx, lasty = event.x, event.y\n",
    "\n",
    "def draw_lines(event):\n",
    "    global lastx, lasty\n",
    "    x, y = event.x, event.y\n",
<<<<<<< HEAD
    "    cv.create_line((lastx, lasty, x, y), width=8, fill='black', capstyle=ROUND, smooth=TRUE, splinesteps=12)\n",
    "    lastx, lasty = x, y\n"
=======
    "    # do the canvas drawings\n",
    "    cv.create_line((lastx, lasty, x, y),width=8, fill='black', capstyle=ROUND, smooth=TRUE, splinesteps=12)\n",
<<<<<<< HEAD
    "    lastx, lasty = x, y1"
<<<<<<< HEAD
>>>>>>> 35e1e18 (Update gui-test.ipynb)
=======
=======
    "    lastx, lasty = x, y"
>>>>>>> 2c2f718 (Added digit rec)
>>>>>>> f7341cf (Added digit rec)
   ]
  },
  {
   "cell_type": "code",
   "execution_count": 10,
   "metadata": {},
   "outputs": [],
   "source": [
    "def retrain_model(new_data, new_label):\n",
    "    global model\n",
    "    new_data = np.array(new_data).reshape(-1, 28, 28, 1)\n",
    "    new_label = to_categorical(new_label, 10)\n",
    "    model.fit(new_data, new_label, epochs=1, verbose=0)\n",
    "    model.save(model_path)\n",
    "    print(\"Model retrained and saved.\")"
   ]
  },
  {
   "cell_type": "code",
   "execution_count": 11,
   "metadata": {},
   "outputs": [],
   "source": [
    "def Recognize_Digit():\n",
    "    global image_number\n",
    "    predictions = []\n",
    "    percentage = []\n",
    "    #image_number = 0\n",
    "    filename = f'image_{image_number}.png'\n",
    "    widget=cv\n",
    "    # get the widget coordinates\n",
<<<<<<< HEAD
    "    print(root.winfo_rootx(), widget.winfo_x())\n",
    "    print(root.winfo_rooty(), widget.winfo_y())\n",
    "    print(widget.winfo_width(), widget.winfo_height())\n",
    "    x=root.winfo_rootx() +widget.winfo_x()\n",
    "    y=root.winfo_rooty()+widget.winfo_y()\n",
=======
    "    x=root.winfo_rootx()+widget.winfo_x()\n",
<<<<<<< HEAD
    "    y1=root.winfo_rooty ()+widget.winfo_y ()\n",
>>>>>>> 35e1e18 (Update gui-test.ipynb)
    "    x1=x+widget.winfo_width()\n",
    "    y2=y+widget.winfo_height ()\n",
=======
    "    y=root.winfo_rooty ()+widget.winfo_y ()\n",
    "    x1=x+widget.winfo_width()\n",
    "    y1=y+widget.winfo_height ()\n",
>>>>>>> 2c2f718 (Added digit rec)
    "    #grab the image, crop it according to my requirement and saved it in png format\n",
    "    # x = self.root.winfo_rootx() + self.canvas.winfo_x()\n",
    "    #     y = self.root.winfo_rooty() + self.canvas.winfo_y()\n",
    "    #     x1 = x + self.canvas.winfo_width()\n",
    "    #     y1 = y + self.canvas.winfo_height()\n",
    "    print(x, y, x1, y1)\n",
    "    # ImageGrab.grab().crop ((x,y, x1 , y1)).save (filename )\n",
    "    ImageGrab.grab().crop ((5, 100, 1200, 900)).save (filename )\n",
    "\n",
    "    # read the image in color format\n",
    "    image = cv2. imread (filename, cv2. IMREAD_COLOR)\n",
    "\n",
    "    # cv2. imshow ( 'image', image)\n",
    "    # cv2. waitKey (0)\n",
    "    # convert the image in grayscale\n",
    "    gray = cv2.cvtColor(image, cv2. COLOR_BGR2GRAY )\n",
    "    # applying Otsu thresholding\n",
    "    ret, th = cv2. threshold(gray, 0,255, cv2.THRESH_BINARY_INV+cv2. THRESH_OTSU)\n",
    "    # findContour() function helps in extracting the contours from the image.\n",
    "    contours= cv2. findContours(th, cv2. RETR_EXTERNAL, cv2.CHAIN_APPROX_SIMPLE) [0]\n",
    "    final_pred = None\n",
    "    img = None\n",
    "    for cnt in contours:\n",
    "        # Get bounding box and extract ROI\n",
<<<<<<< HEAD
    "        x, y1,w, h = cv2.boundingRect (cnt)\n",
=======
    "        x, y,w, h = cv2.boundingRect (cnt)\n",
>>>>>>> 2c2f718 (Added digit rec)
    "        # Create rectangle\n",
    "        cv2. rectangle (image, (x,y), (x+w, y+h), (255, 0, 0) , 1)\n",
    "        top = int (0.06 * th. shape [0])\n",
    "        bottom = top\n",
    "        left = int (0.06 * th. shape[1])\n",
    "        right = left\n",
    "        th_up = cv2. copyMakeBorder(th, top, bottom, left, right, cv2. BORDER_REPLICATE)\n",
    "        #Extract the image ROI\n",
    "        roi= th[y-top:y+h+bottom, x-left:x+w+right]\n",
    "        # resize roi image to 28x28 pixels\n",
    "        # print(roi.shape)\n",
    "        img = cv2. resize (roi, (28, 28), interpolation=cv2. INTER_AREA)\n",
    "        #reshaping the image to support our model input\n",
    "        img = img. reshape (1, 28,28,1)\n",
    "        #normalizing the image to support our model input\n",
    "        img = img/255.0\n",
    "        #its time to predict the result\n",
    "        pred = model.predict( [img]) [0]\n",
    "        #numpy. argmaxinput array) Returns the indices of the maximum values.\n",
    "        print(\"Before, \", final_pred)\n",
    "        final_pred = np.argmax (pred)\n",
    "        print(\"mid, \", final_pred)\n",
    "        data = str (final_pred) +' '+ str(int (max(pred) *100) )+'%'\n",
    "        #cv2. putText) method is used to draw a text string on image.\n",
    "        font = cv2. FONT_HERSHEY_SIMPLEX\n",
    "        fontScale = 0.5\n",
    "        color = (255, 0, 0)\n",
    "        thickness = 1\n",
    "        cv2. putText (image, data, (x,y-5), font, fontScale, color, thickness)\n",
    "        break\n",
    "\n",
    "    print(\"final, \", final_pred)\n",
    "    # Showing the predicted results on new window.\n",
    "    is_correct = messagebox.askyesno(\"Prediction Result\", f\"Predicted Digit: {final_pred}. Is this correct?\")\n",
    "    if not is_correct:\n",
    "        new_label = simpledialog.askinteger(\"Correction\", \"Enter the correct digit:\")\n",
    "        if new_label is not None:\n",
    "            retrain_model(img, new_label)\n",
    "    cv2. imshow ( 'image', image)"
   ]
  },
  {
   "cell_type": "code",
   "execution_count": null,
   "metadata": {},
   "outputs": [
    {
     "name": "stdout",
     "output_type": "stream",
     "text": [
      "63 0\n",
      "129 2\n",
      "646 486\n",
      "63 131 709 617\n",
      "1/1 [==============================] - 0s 26ms/step\n",
      "Before,  None\n",
      "mid,  3\n",
      "final,  3\n",
      "63 0\n",
      "129 2\n",
      "646 486\n",
      "63 131 709 617\n",
      "1/1 [==============================] - 0s 9ms/step\n",
      "Before,  None\n",
      "mid,  2\n",
      "final,  2\n",
      "63 0\n",
      "129 2\n",
      "646 486\n",
      "63 131 709 617\n",
      "1/1 [==============================] - 0s 10ms/step\n",
      "Before,  None\n",
      "mid,  2\n",
      "final,  2\n",
      "63 0\n",
      "129 2\n",
      "646 486\n",
      "63 131 709 617\n",
      "1/1 [==============================] - 0s 9ms/step\n",
      "Before,  None\n",
      "mid,  2\n",
      "final,  2\n"
     ]
    },
    {
     "name": "stderr",
     "output_type": "stream",
     "text": [
      "Exception in Tkinter callback\n",
      "Traceback (most recent call last):\n",
      "  File \"/Users/gowtham/WorkSpace/myenv/lib/python3.10/tkinter/__init__.py\", line 1921, in __call__\n",
      "    return self.func(*args)\n",
      "  File \"/var/folders/58/nvkqn1wd2tq7_ht3yhwmsh580000gn/T/ipykernel_96509/291969496.py\", line 78, in Recognize_Digit\n",
      "    retrain_model(img, new_label)\n",
      "  File \"/var/folders/58/nvkqn1wd2tq7_ht3yhwmsh580000gn/T/ipykernel_96509/1987636209.py\", line 5, in retrain_model\n",
      "    model.fit(new_data, new_label, epochs=1, verbose=0)\n",
      "  File \"/Users/gowtham/WorkSpace/myenv/lib/python3.10/site-packages/keras/utils/traceback_utils.py\", line 70, in error_handler\n",
      "    raise e.with_traceback(filtered_tb) from None\n",
      "  File \"/Users/gowtham/WorkSpace/myenv/lib/python3.10/site-packages/keras/engine/data_adapter.py\", line 1852, in _check_data_cardinality\n",
      "    raise ValueError(msg)\n",
      "ValueError: Data cardinality is ambiguous:\n",
      "  x sizes: 1\n",
      "  y sizes: 10\n",
      "Make sure all arrays contain the same number of samples.\n"
     ]
    },
    {
     "name": "stdout",
     "output_type": "stream",
     "text": [
      "63 0\n",
      "129 2\n",
      "646 486\n",
      "63 131 709 617\n",
      "1/1 [==============================] - 0s 9ms/step\n",
      "Before,  None\n",
      "mid,  2\n",
      "final,  2\n",
      "63 0\n",
      "129 2\n",
      "646 486\n",
      "63 131 709 617\n",
      "1/1 [==============================] - 0s 10ms/step\n",
      "Before,  None\n",
      "mid,  2\n",
      "final,  2\n"
     ]
    },
    {
     "name": "stderr",
     "output_type": "stream",
     "text": [
      "Exception in Tkinter callback\n",
      "Traceback (most recent call last):\n",
      "  File \"/Users/gowtham/WorkSpace/myenv/lib/python3.10/tkinter/__init__.py\", line 1921, in __call__\n",
      "    return self.func(*args)\n",
      "  File \"/var/folders/58/nvkqn1wd2tq7_ht3yhwmsh580000gn/T/ipykernel_96509/291969496.py\", line 78, in Recognize_Digit\n",
      "    retrain_model(img, new_label)\n",
      "  File \"/var/folders/58/nvkqn1wd2tq7_ht3yhwmsh580000gn/T/ipykernel_96509/1987636209.py\", line 5, in retrain_model\n",
      "    model.fit(new_data, new_label, epochs=1, verbose=0)\n",
      "  File \"/Users/gowtham/WorkSpace/myenv/lib/python3.10/site-packages/keras/utils/traceback_utils.py\", line 70, in error_handler\n",
      "    raise e.with_traceback(filtered_tb) from None\n",
      "  File \"/Users/gowtham/WorkSpace/myenv/lib/python3.10/site-packages/keras/engine/data_adapter.py\", line 1852, in _check_data_cardinality\n",
      "    raise ValueError(msg)\n",
      "ValueError: Data cardinality is ambiguous:\n",
      "  x sizes: 1\n",
      "  y sizes: 10\n",
      "Make sure all arrays contain the same number of samples.\n"
     ]
    }
   ],
   "source": [
    "#Initialize few variables\n",
    "lastx, lasty = None, None\n",
    "image_number = 0\n",
    "\n",
    "# Create a canvas for drawing\n",
    "cv = Canvas(root, width=640, height=480, bg='white')\n",
    "cv.grid(row=0, column=0, pady=2, sticky=W, columnspan=2)\n",
    "cv.bind('<Button-1>', activate_event)\n",
    "\n",
    "# Add Buttons and Labels\n",
    "btn_save = Button(text=\"Recognize Digit\", command=Recognize_Digit)\n",
    "btn_save.grid(row=2, column=0, pady=1, padx=1)\n",
    "\n",
    "button_clear = Button(text=\"Clear Widget\", command=clear_widget)\n",
    "button_clear.grid(row=2, column=1, pady=1, padx=1)\n",
    "\n",
    "# Run the main event loop\n",
    "root.mainloop()"
   ]
  },
  {
   "cell_type": "code",
   "execution_count": null,
   "metadata": {},
   "outputs": [],
   "source": []
  },
  {
   "cell_type": "code",
   "execution_count": null,
   "metadata": {},
   "outputs": [],
   "source": []
  },
  {
   "cell_type": "code",
   "execution_count": null,
   "metadata": {},
   "outputs": [],
   "source": []
  },
  {
   "cell_type": "code",
   "execution_count": null,
   "metadata": {},
   "outputs": [],
   "source": []
  }
 ],
 "metadata": {
  "kernelspec": {
   "display_name": "Python 3",
   "language": "python",
   "name": "python3"
  },
  "language_info": {
   "codemirror_mode": {
    "name": "ipython",
    "version": 3
   },
   "file_extension": ".py",
   "mimetype": "text/x-python",
   "name": "python",
   "nbconvert_exporter": "python",
   "pygments_lexer": "ipython3",
   "version": "3.9.15"
  }
 },
 "nbformat": 4,
 "nbformat_minor": 2
}
